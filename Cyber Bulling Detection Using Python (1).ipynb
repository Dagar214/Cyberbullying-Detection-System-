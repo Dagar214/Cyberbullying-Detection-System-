{
 "cells": [
  {
   "cell_type": "markdown",
   "id": "dJpDFYe0FTeC",
   "metadata": {
    "id": "dJpDFYe0FTeC"
   },
   "source": [
    "#Installing Libraries\n",
    "\n",
    "#Tfidf-- (Term frequency -Inverse Document frequency)\n",
    "1.Here we are using tfid becz its faster & takes less memory\n",
    "\n",
    "2.A tool used to transform collection of text documents into numerical vectors for each word"
   ]
  },
  {
   "cell_type": "code",
   "execution_count": 1,
   "id": "4609f336",
   "metadata": {
    "executionInfo": {
     "elapsed": 3744,
     "status": "ok",
     "timestamp": 1745480922440,
     "user": {
      "displayName": "Dev Dagar",
      "userId": "11148502930427226651"
     },
     "user_tz": -330
    },
    "id": "4609f336"
   },
   "outputs": [],
   "source": [
    "import pandas as pd\n",
    "import numpy as np\n",
    "import matplotlib.pyplot as plt\n",
    "import seaborn as sns\n",
    "plt.style.use(\"ggplot\")\n",
    "\n",
    "import re\n",
    "import nltk\n",
    "\n",
    "from sklearn.feature_extraction.text import TfidfVectorizer, TfidfTransformer, CountVectorizer\n",
    "from nltk import sent_tokenize, word_tokenize\n",
    "from sklearn.metrics import f1_score, accuracy_score, precision_score, recall_score, make_scorer\n",
    "\n",
    "from time import time\n",
    "import pickle"
   ]
  },
  {
   "cell_type": "code",
   "execution_count": null,
   "id": "E0KkJyKm-8bn",
   "metadata": {
    "executionInfo": {
     "elapsed": 6,
     "status": "ok",
     "timestamp": 1745480922443,
     "user": {
      "displayName": "Dev Dagar",
      "userId": "11148502930427226651"
     },
     "user_tz": -330
    },
    "id": "E0KkJyKm-8bn"
   },
   "outputs": [],
   "source": []
  },
  {
   "cell_type": "markdown",
   "id": "-a1qJ8hfFjBW",
   "metadata": {
    "id": "-a1qJ8hfFjBW"
   },
   "source": [
    "#Loading the Dataset"
   ]
  },
  {
   "cell_type": "code",
   "execution_count": 7,
   "id": "08f24293",
   "metadata": {
    "executionInfo": {
     "elapsed": 126,
     "status": "ok",
     "timestamp": 1745480922564,
     "user": {
      "displayName": "Dev Dagar",
      "userId": "11148502930427226651"
     },
     "user_tz": -330
    },
    "id": "08f24293"
   },
   "outputs": [],
   "source": [
    "df = pd.read_csv(\"dataset.csv\")"
   ]
  },
  {
   "cell_type": "markdown",
   "id": "x48ZxyVYFkSr",
   "metadata": {
    "id": "x48ZxyVYFkSr"
   },
   "source": [
    "# Exploratory Data Analysis (EDA)\n",
    "\n",
    "\n",
    "1.   A method of analyzing data to identify patterns, outliers, and unexpected features\n",
    "\n",
    "2.   A key first step in any data analysis\n",
    "3.   \n",
    "Helps to design statistical analyses that yield meaningful results\n",
    "4.\n",
    "Helps to understand how variables are related\n",
    "\n"
   ]
  },
  {
   "cell_type": "code",
   "execution_count": 8,
   "id": "cb8081f9",
   "metadata": {
    "colab": {
     "base_uri": "https://localhost:8080/",
     "height": 206
    },
    "executionInfo": {
     "elapsed": 326,
     "status": "ok",
     "timestamp": 1745480922892,
     "user": {
      "displayName": "Dev Dagar",
      "userId": "11148502930427226651"
     },
     "user_tz": -330
    },
    "id": "cb8081f9",
    "outputId": "99808a40-7f25-4616-ec21-a03bbdf8c543"
   },
   "outputs": [
    {
     "data": {
      "text/html": [
       "<div>\n",
       "<style scoped>\n",
       "    .dataframe tbody tr th:only-of-type {\n",
       "        vertical-align: middle;\n",
       "    }\n",
       "\n",
       "    .dataframe tbody tr th {\n",
       "        vertical-align: top;\n",
       "    }\n",
       "\n",
       "    .dataframe thead th {\n",
       "        text-align: right;\n",
       "    }\n",
       "</style>\n",
       "<table border=\"1\" class=\"dataframe\">\n",
       "  <thead>\n",
       "    <tr style=\"text-align: right;\">\n",
       "      <th></th>\n",
       "      <th>headline</th>\n",
       "      <th>label</th>\n",
       "    </tr>\n",
       "  </thead>\n",
       "  <tbody>\n",
       "    <tr>\n",
       "      <th>0</th>\n",
       "      <td>cock  suck before you piss around on my work</td>\n",
       "      <td>-1</td>\n",
       "    </tr>\n",
       "    <tr>\n",
       "      <th>1</th>\n",
       "      <td>you are  gay or antisemmitian archangel white ...</td>\n",
       "      <td>-1</td>\n",
       "    </tr>\n",
       "    <tr>\n",
       "      <th>2</th>\n",
       "      <td>fuck your filthy mother in the ass  dry</td>\n",
       "      <td>-1</td>\n",
       "    </tr>\n",
       "    <tr>\n",
       "      <th>3</th>\n",
       "      <td>get fuck  ed up  get fuck  ed up got a drink t...</td>\n",
       "      <td>-1</td>\n",
       "    </tr>\n",
       "    <tr>\n",
       "      <th>4</th>\n",
       "      <td>stupid peace of  shit  stop deleting my stuff ...</td>\n",
       "      <td>-1</td>\n",
       "    </tr>\n",
       "  </tbody>\n",
       "</table>\n",
       "</div>"
      ],
      "text/plain": [
       "                                            headline  label\n",
       "0       cock  suck before you piss around on my work     -1\n",
       "1  you are  gay or antisemmitian archangel white ...     -1\n",
       "2            fuck your filthy mother in the ass  dry     -1\n",
       "3  get fuck  ed up  get fuck  ed up got a drink t...     -1\n",
       "4  stupid peace of  shit  stop deleting my stuff ...     -1"
      ]
     },
     "execution_count": 8,
     "metadata": {},
     "output_type": "execute_result"
    }
   ],
   "source": [
    "df.head()"
   ]
  },
  {
   "cell_type": "code",
   "execution_count": 9,
   "id": "ea111c8f",
   "metadata": {
    "colab": {
     "base_uri": "https://localhost:8080/"
    },
    "executionInfo": {
     "elapsed": 10,
     "status": "ok",
     "timestamp": 1745480922904,
     "user": {
      "displayName": "Dev Dagar",
      "userId": "11148502930427226651"
     },
     "user_tz": -330
    },
    "id": "ea111c8f",
    "outputId": "d2c7d591-bf82-442a-f715-716430f84bc9"
   },
   "outputs": [
    {
     "data": {
      "text/plain": [
       "array([-1,  0], dtype=int64)"
      ]
     },
     "execution_count": 9,
     "metadata": {},
     "output_type": "execute_result"
    }
   ],
   "source": [
    "df['label'].unique()"
   ]
  },
  {
   "cell_type": "markdown",
   "id": "2b2e0551",
   "metadata": {
    "id": "2b2e0551"
   },
   "source": [
    "Dataframe manipulation"
   ]
  },
  {
   "cell_type": "markdown",
   "id": "xlXUkigjFwOi",
   "metadata": {
    "id": "xlXUkigjFwOi"
   },
   "source": [
    "Dataframe manipulation\n",
    "\n",
    "1. No code to correct.  \"Dataframe manipulation\" is not code.\n",
    "2. We have done Data manipulation because we convert -1 into 1..."
   ]
  },
  {
   "cell_type": "code",
   "execution_count": 21,
   "id": "a408689b",
   "metadata": {
    "executionInfo": {
     "elapsed": 1,
     "status": "ok",
     "timestamp": 1745480922907,
     "user": {
      "displayName": "Dev Dagar",
      "userId": "11148502930427226651"
     },
     "user_tz": -330
    },
    "id": "a408689b"
   },
   "outputs": [],
   "source": [
    "def perform_data_manipulation():\n",
    "    df = pd.read_csv(\"dataset.csv\")\n",
    "\n",
    "    for index in df.index:\n",
    "        if df.loc[index, \"label\"]==-1:\n",
    "            df.loc[index, \"label\"] = 1\n",
    "    return df"
   ]
  },
  {
   "cell_type": "code",
   "execution_count": 22,
   "id": "000a476d",
   "metadata": {
    "executionInfo": {
     "elapsed": 3675,
     "status": "ok",
     "timestamp": 1745480926584,
     "user": {
      "displayName": "Dev Dagar",
      "userId": "11148502930427226651"
     },
     "user_tz": -330
    },
    "id": "000a476d"
   },
   "outputs": [],
   "source": [
    "df = perform_data_manipulation()"
   ]
  },
  {
   "cell_type": "code",
   "execution_count": 23,
   "id": "67925c0f",
   "metadata": {
    "colab": {
     "base_uri": "https://localhost:8080/",
     "height": 206
    },
    "executionInfo": {
     "elapsed": 171,
     "status": "ok",
     "timestamp": 1745480926758,
     "user": {
      "displayName": "Dev Dagar",
      "userId": "11148502930427226651"
     },
     "user_tz": -330
    },
    "id": "67925c0f",
    "outputId": "012107eb-1979-4e71-ec60-63d02be72211"
   },
   "outputs": [
    {
     "data": {
      "text/html": [
       "<div>\n",
       "<style scoped>\n",
       "    .dataframe tbody tr th:only-of-type {\n",
       "        vertical-align: middle;\n",
       "    }\n",
       "\n",
       "    .dataframe tbody tr th {\n",
       "        vertical-align: top;\n",
       "    }\n",
       "\n",
       "    .dataframe thead th {\n",
       "        text-align: right;\n",
       "    }\n",
       "</style>\n",
       "<table border=\"1\" class=\"dataframe\">\n",
       "  <thead>\n",
       "    <tr style=\"text-align: right;\">\n",
       "      <th></th>\n",
       "      <th>headline</th>\n",
       "      <th>label</th>\n",
       "    </tr>\n",
       "  </thead>\n",
       "  <tbody>\n",
       "    <tr>\n",
       "      <th>0</th>\n",
       "      <td>cock  suck before you piss around on my work</td>\n",
       "      <td>1</td>\n",
       "    </tr>\n",
       "    <tr>\n",
       "      <th>1</th>\n",
       "      <td>you are  gay or antisemmitian archangel white ...</td>\n",
       "      <td>1</td>\n",
       "    </tr>\n",
       "    <tr>\n",
       "      <th>2</th>\n",
       "      <td>fuck your filthy mother in the ass  dry</td>\n",
       "      <td>1</td>\n",
       "    </tr>\n",
       "    <tr>\n",
       "      <th>3</th>\n",
       "      <td>get fuck  ed up  get fuck  ed up got a drink t...</td>\n",
       "      <td>1</td>\n",
       "    </tr>\n",
       "    <tr>\n",
       "      <th>4</th>\n",
       "      <td>stupid peace of  shit  stop deleting my stuff ...</td>\n",
       "      <td>1</td>\n",
       "    </tr>\n",
       "  </tbody>\n",
       "</table>\n",
       "</div>"
      ],
      "text/plain": [
       "                                            headline  label\n",
       "0       cock  suck before you piss around on my work      1\n",
       "1  you are  gay or antisemmitian archangel white ...      1\n",
       "2            fuck your filthy mother in the ass  dry      1\n",
       "3  get fuck  ed up  get fuck  ed up got a drink t...      1\n",
       "4  stupid peace of  shit  stop deleting my stuff ...      1"
      ]
     },
     "execution_count": 23,
     "metadata": {},
     "output_type": "execute_result"
    }
   ],
   "source": [
    "df.head()"
   ]
  },
  {
   "cell_type": "code",
   "execution_count": 24,
   "id": "2c9d6fd1",
   "metadata": {
    "colab": {
     "base_uri": "https://localhost:8080/"
    },
    "executionInfo": {
     "elapsed": 8,
     "status": "ok",
     "timestamp": 1745480926768,
     "user": {
      "displayName": "Dev Dagar",
      "userId": "11148502930427226651"
     },
     "user_tz": -330
    },
    "id": "2c9d6fd1",
    "outputId": "60751567-680b-4027-b035-17fa21ecad25"
   },
   "outputs": [
    {
     "data": {
      "text/plain": [
       "array([1, 0], dtype=int64)"
      ]
     },
     "execution_count": 24,
     "metadata": {},
     "output_type": "execute_result"
    }
   ],
   "source": [
    "df['label'].unique()"
   ]
  },
  {
   "cell_type": "code",
   "execution_count": 25,
   "id": "8f7f838f",
   "metadata": {
    "colab": {
     "base_uri": "https://localhost:8080/"
    },
    "executionInfo": {
     "elapsed": 6,
     "status": "ok",
     "timestamp": 1745480926776,
     "user": {
      "displayName": "Dev Dagar",
      "userId": "11148502930427226651"
     },
     "user_tz": -330
    },
    "id": "8f7f838f",
    "outputId": "5396f0d5-6856-46db-f7c2-20184e3bb819"
   },
   "outputs": [
    {
     "data": {
      "text/plain": [
       "18148"
      ]
     },
     "execution_count": 25,
     "metadata": {},
     "output_type": "execute_result"
    }
   ],
   "source": [
    "df.shape[0]"
   ]
  },
  {
   "cell_type": "markdown",
   "id": "c047534f",
   "metadata": {
    "id": "c047534f"
   },
   "source": [
    "#Classification using Pie chart\n",
    "we use this for checking dataset is  balance or imbalanced.\n"
   ]
  },
  {
   "cell_type": "code",
   "execution_count": 26,
   "id": "01855e47",
   "metadata": {
    "executionInfo": {
     "elapsed": 2,
     "status": "ok",
     "timestamp": 1745480926804,
     "user": {
      "displayName": "Dev Dagar",
      "userId": "11148502930427226651"
     },
     "user_tz": -330
    },
    "id": "01855e47"
   },
   "outputs": [],
   "source": [
    "def performdatadistribution(df):\n",
    "    total = df.shape[0]\n",
    "    num_non_toxic = df[df['label']==0].shape[0]\n",
    "\n",
    "    slices = [num_non_toxic/total, (total-num_non_toxic)/total]\n",
    "\n",
    "    labeling = ['Non-Toxic', 'Toxic']\n",
    "\n",
    "    explode = [0.2, 0]\n",
    "\n",
    "    plt.pie(slices, explode = explode, shadow=True, autopct=\"%1.1f%%\", labels = labeling, wedgeprops={'edgecolor': 'black'})\n",
    "\n",
    "    plt.title('Number of Toxic Vs Non- Toxic Test Sample')\n",
    "\n",
    "    plt.tight_layout()\n",
    "\n",
    "    plt.show()"
   ]
  },
  {
   "cell_type": "code",
   "execution_count": 27,
   "id": "7cb189a0",
   "metadata": {
    "colab": {
     "base_uri": "https://localhost:8080/",
     "height": 505
    },
    "executionInfo": {
     "elapsed": 326,
     "status": "ok",
     "timestamp": 1745480927222,
     "user": {
      "displayName": "Dev Dagar",
      "userId": "11148502930427226651"
     },
     "user_tz": -330
    },
    "id": "7cb189a0",
    "outputId": "702a9809-da45-4eb5-a7e7-c79c662d46e4"
   },
   "outputs": [
    {
     "data": {
      "image/png": "[encoded data removed]",
      "text/plain": [
       "<Figure size 640x480 with 1 Axes>"
      ]
     },
     "metadata": {},
     "output_type": "display_data"
    },
    {
     "data": {
      "text/plain": [
       "'we are using performdatadistribution because for checking data\\nis imbalanced or balance with help of Pie chart '"
      ]
     },
     "execution_count": 27,
     "metadata": {},
     "output_type": "execute_result"
    }
   ],
   "source": [
    "performdatadistribution(df)\n",
    "\n",
    "'''we are using performdatadistribution because for checking data\n",
    "is imbalanced or balance with help of Pie chart '''"
   ]
  },
  {
   "cell_type": "markdown",
   "id": "oGciX0X2GSwJ",
   "metadata": {
    "id": "oGciX0X2GSwJ"
   },
   "source": [
    "#re---- Regular expression\n",
    "\n",
    "---\n",
    "\n",
    "\n",
    "As our data is a textual data so  for removing such noisy thinghs from our dataset we now here defined a function called remove pattern for this we are using re."
   ]
  },
  {
   "cell_type": "code",
   "execution_count": 28,
   "id": "0fd2d056",
   "metadata": {
    "executionInfo": {
     "elapsed": 1,
     "status": "ok",
     "timestamp": 1745480927225,
     "user": {
      "displayName": "Dev Dagar",
      "userId": "11148502930427226651"
     },
     "user_tz": -330
    },
    "id": "0fd2d056"
   },
   "outputs": [],
   "source": [
    "def remove_pattern(input_txt, pattern):\n",
    "    if (type(input_txt)==str):\n",
    "        r = re.findall(pattern, input_txt)\n",
    "        for i in r:\n",
    "            input_txt = re.sub(i, '', input_txt)\n",
    "        return input_txt\n",
    "    else:\n",
    "        return \"\""
   ]
  },
  {
   "cell_type": "code",
   "execution_count": 29,
   "id": "fc04ee7f",
   "metadata": {
    "colab": {
     "base_uri": "https://localhost:8080/",
     "height": 80
    },
    "executionInfo": {
     "elapsed": 13,
     "status": "ok",
     "timestamp": 1745480927253,
     "user": {
      "displayName": "Dev Dagar",
      "userId": "11148502930427226651"
     },
     "user_tz": -330
    },
    "id": "fc04ee7f",
    "outputId": "18df2c46-2a57-4f17-8e85-ff0b24618d66"
   },
   "outputs": [
    {
     "data": {
      "text/html": [
       "<div>\n",
       "<style scoped>\n",
       "    .dataframe tbody tr th:only-of-type {\n",
       "        vertical-align: middle;\n",
       "    }\n",
       "\n",
       "    .dataframe tbody tr th {\n",
       "        vertical-align: top;\n",
       "    }\n",
       "\n",
       "    .dataframe thead th {\n",
       "        text-align: right;\n",
       "    }\n",
       "</style>\n",
       "<table border=\"1\" class=\"dataframe\">\n",
       "  <thead>\n",
       "    <tr style=\"text-align: right;\">\n",
       "      <th></th>\n",
       "      <th>headline</th>\n",
       "      <th>label</th>\n",
       "    </tr>\n",
       "  </thead>\n",
       "  <tbody>\n",
       "    <tr>\n",
       "      <th>0</th>\n",
       "      <td>cock  suck before you piss around on my work</td>\n",
       "      <td>1</td>\n",
       "    </tr>\n",
       "  </tbody>\n",
       "</table>\n",
       "</div>"
      ],
      "text/plain": [
       "                                       headline  label\n",
       "0  cock  suck before you piss around on my work      1"
      ]
     },
     "execution_count": 29,
     "metadata": {},
     "output_type": "execute_result"
    }
   ],
   "source": [
    "df.head(1)"
   ]
  },
  {
   "cell_type": "markdown",
   "id": "xZ56v7CBGidp",
   "metadata": {
    "id": "xZ56v7CBGidp"
   },
   "source": [
    "##now here we r using\n",
    "1. @remove user because our data is like a twitter data and it is having some @ like users so we need to remove them..\n",
    "2. @remove extra letter we use for removing extra space\n",
    "3. @remove all those words with size less than 3 because we dont want such small and we use here LAMBDA method and JOIN method if length of word is greater than 3 and simple if length of W is greater than 3 we simply going to split it.. after that we will calculate actual length by combined_df\n",
    "4. TOKENIZE - we created a list and passed it inside the TOKENIZER METHOD so for that we can use NLTK than we created a LEMMATIZE technique and using LAMBDA method and and than we will be getting a list and in than end Combined them"
   ]
  },
  {
   "cell_type": "code",
   "execution_count": 32,
   "id": "4b12c5ec",
   "metadata": {
    "executionInfo": {
     "elapsed": 4,
     "status": "ok",
     "timestamp": 1745480927256,
     "user": {
      "displayName": "Dev Dagar",
      "userId": "11148502930427226651"
     },
     "user_tz": -330
    },
    "id": "4b12c5ec"
   },
   "outputs": [
    {
     "name": "stderr",
     "output_type": "stream",
     "text": [
      "<>:7: SyntaxWarning: invalid escape sequence '\\w'\n",
      "<>:7: SyntaxWarning: invalid escape sequence '\\w'\n",
      "C:\\Users\\ddaga\\AppData\\Local\\Temp\\ipykernel_42192\\2276495996.py:7: SyntaxWarning: invalid escape sequence '\\w'\n",
      "  combined_df['tidy_tweet'] = np.vectorize(remove_pattern)(combined_df['headline'], \"@[\\w]*\")\n"
     ]
    }
   ],
   "source": [
    "def datasetCleaning(df):\n",
    "    df['length_headline'] = df['headline'].str.len()\n",
    "\n",
    "    combined_df = pd.concat([df, df], ignore_index=True)\n",
    "\n",
    "    # remove @ user\n",
    "    combined_df['tidy_tweet'] = np.vectorize(remove_pattern)(combined_df['headline'], \"@[\\w]*\")\n",
    "\n",
    "    # remove extra letters\n",
    "    combined_df['tidy_tweet'] = combined_df['tidy_tweet'].str.replace(\"[^a-zA-Z#]\", \" \", regex=True)\n",
    "\n",
    "    # remove all those words with size less than 3\n",
    "    combined_df['tidy_tweet'] = combined_df['tidy_tweet'].apply(lambda x : ' '.join([w for w in x.split() if len(w)>3]))\n",
    "\n",
    "    combined_df['length_tidy_tweet'] = combined_df['tidy_tweet'].str.len()\n",
    "\n",
    "    # Tokenized\n",
    "    tokenized_tweet = combined_df['tidy_tweet'].apply(lambda x : x.split())\n",
    "\n",
    "    nltk.download('wordnet')\n",
    "\n",
    "    lemmatizer = nltk.stem.WordNetLemmatizer()\n",
    "\n",
    "    tokenized_tweet = tokenized_tweet.apply(lambda x :[lemmatizer.lemmatize(i) for i in x])\n",
    "\n",
    "    for i in range(len(tokenized_tweet)):\n",
    "        tokenized_tweet[i] = ' '.join(tokenized_tweet[i])\n",
    "    combined_df['tidy_tweet'] = tokenized_tweet\n",
    "\n",
    "    return combined_df, df\n"
   ]
  },
  {
   "cell_type": "code",
   "execution_count": 33,
   "id": "307e72a5",
   "metadata": {
    "colab": {
     "base_uri": "https://localhost:8080/"
    },
    "executionInfo": {
     "elapsed": 12380,
     "status": "ok",
     "timestamp": 1745480939638,
     "user": {
      "displayName": "Dev Dagar",
      "userId": "11148502930427226651"
     },
     "user_tz": -330
    },
    "id": "307e72a5",
    "outputId": "c6806bcf-0a53-4079-8439-5380cf71d308"
   },
   "outputs": [
    {
     "name": "stderr",
     "output_type": "stream",
     "text": [
      "[nltk_data] Downloading package wordnet to\n",
      "[nltk_data]     C:\\Users\\ddaga\\AppData\\Roaming\\nltk_data...\n"
     ]
    }
   ],
   "source": [
    "combined_df, df = datasetCleaning(df)"
   ]
  },
  {
   "cell_type": "code",
   "execution_count": 34,
   "id": "7dc1347a",
   "metadata": {
    "colab": {
     "base_uri": "https://localhost:8080/",
     "height": 275
    },
    "executionInfo": {
     "elapsed": 160,
     "status": "ok",
     "timestamp": 1745480939801,
     "user": {
      "displayName": "Dev Dagar",
      "userId": "11148502930427226651"
     },
     "user_tz": -330
    },
    "id": "7dc1347a",
    "outputId": "c23ef4af-cf5b-4122-8054-63c62d08dcb4"
   },
   "outputs": [
    {
     "data": {
      "text/html": [
       "<div>\n",
       "<style scoped>\n",
       "    .dataframe tbody tr th:only-of-type {\n",
       "        vertical-align: middle;\n",
       "    }\n",
       "\n",
       "    .dataframe tbody tr th {\n",
       "        vertical-align: top;\n",
       "    }\n",
       "\n",
       "    .dataframe thead th {\n",
       "        text-align: right;\n",
       "    }\n",
       "</style>\n",
       "<table border=\"1\" class=\"dataframe\">\n",
       "  <thead>\n",
       "    <tr style=\"text-align: right;\">\n",
       "      <th></th>\n",
       "      <th>headline</th>\n",
       "      <th>label</th>\n",
       "      <th>length_headline</th>\n",
       "      <th>tidy_tweet</th>\n",
       "      <th>length_tidy_tweet</th>\n",
       "    </tr>\n",
       "  </thead>\n",
       "  <tbody>\n",
       "    <tr>\n",
       "      <th>0</th>\n",
       "      <td>cock  suck before you piss around on my work</td>\n",
       "      <td>1</td>\n",
       "      <td>44</td>\n",
       "      <td>cock suck before piss around work</td>\n",
       "      <td>33</td>\n",
       "    </tr>\n",
       "    <tr>\n",
       "      <th>1</th>\n",
       "      <td>you are  gay or antisemmitian archangel white ...</td>\n",
       "      <td>1</td>\n",
       "      <td>624</td>\n",
       "      <td>antisemmitian archangel white tiger meow greet...</td>\n",
       "      <td>400</td>\n",
       "    </tr>\n",
       "    <tr>\n",
       "      <th>2</th>\n",
       "      <td>fuck your filthy mother in the ass  dry</td>\n",
       "      <td>1</td>\n",
       "      <td>39</td>\n",
       "      <td>fuck your filthy mother</td>\n",
       "      <td>23</td>\n",
       "    </tr>\n",
       "    <tr>\n",
       "      <th>3</th>\n",
       "      <td>get fuck  ed up  get fuck  ed up got a drink t...</td>\n",
       "      <td>1</td>\n",
       "      <td>121</td>\n",
       "      <td>fuck fuck drink that cant down fuck fuck fuck ...</td>\n",
       "      <td>51</td>\n",
       "    </tr>\n",
       "    <tr>\n",
       "      <th>4</th>\n",
       "      <td>stupid peace of  shit  stop deleting my stuff ...</td>\n",
       "      <td>1</td>\n",
       "      <td>93</td>\n",
       "      <td>stupid peace shit stop deleting stuff hole fal...</td>\n",
       "      <td>57</td>\n",
       "    </tr>\n",
       "  </tbody>\n",
       "</table>\n",
       "</div>"
      ],
      "text/plain": [
       "                                            headline  label  length_headline  \\\n",
       "0       cock  suck before you piss around on my work      1               44   \n",
       "1  you are  gay or antisemmitian archangel white ...      1              624   \n",
       "2            fuck your filthy mother in the ass  dry      1               39   \n",
       "3  get fuck  ed up  get fuck  ed up got a drink t...      1              121   \n",
       "4  stupid peace of  shit  stop deleting my stuff ...      1               93   \n",
       "\n",
       "                                          tidy_tweet  length_tidy_tweet  \n",
       "0                  cock suck before piss around work                 33  \n",
       "1  antisemmitian archangel white tiger meow greet...                400  \n",
       "2                            fuck your filthy mother                 23  \n",
       "3  fuck fuck drink that cant down fuck fuck fuck ...                 51  \n",
       "4  stupid peace shit stop deleting stuff hole fal...                 57  "
      ]
     },
     "execution_count": 34,
     "metadata": {},
     "output_type": "execute_result"
    }
   ],
   "source": [
    "combined_df.head()"
   ]
  },
  {
   "cell_type": "markdown",
   "id": "47e01d67",
   "metadata": {
    "id": "47e01d67"
   },
   "source": [
    "#Dataset Splitting"
   ]
  },
  {
   "cell_type": "markdown",
   "id": "X8ysHCCNGyCi",
   "metadata": {
    "id": "X8ysHCCNGyCi"
   },
   "source": [
    "As we are making a machine learning model so we\n",
    "need to divide the data into training and testing so we can say\n",
    "30% for testing and 70% for training and  is nothing TESTING SIZE and Random State is nothing Y by Default"
   ]
  },
  {
   "cell_type": "markdown",
   "id": "hsrjlKn-G2Do",
   "metadata": {
    "id": "hsrjlKn-G2Do"
   },
   "source": [
    "Now we will be using a technique and get to know how to open a file in python\n"
   ]
  },
  {
   "cell_type": "code",
   "execution_count": 35,
   "id": "4df9b909",
   "metadata": {
    "executionInfo": {
     "elapsed": 4,
     "status": "ok",
     "timestamp": 1745480939808,
     "user": {
      "displayName": "Dev Dagar",
      "userId": "11148502930427226651"
     },
     "user_tz": -330
    },
    "id": "4df9b909"
   },
   "outputs": [],
   "source": [
    "from sklearn.model_selection import train_test_split"
   ]
  },
  {
   "cell_type": "code",
   "execution_count": 36,
   "id": "ced1275e",
   "metadata": {
    "executionInfo": {
     "elapsed": 4,
     "status": "ok",
     "timestamp": 1745480939815,
     "user": {
      "displayName": "Dev Dagar",
      "userId": "11148502930427226651"
     },
     "user_tz": -330
    },
    "id": "ced1275e"
   },
   "outputs": [],
   "source": [
    "def performdatasplit(x, y, combined_df, df):\n",
    "    X_train, X_test, y_train, y_test = train_test_split(combined_df['tidy_tweet'], combined_df['label'], test_size = x, random_state = y)\n",
    "    print(f\"Number of rows in the total dataset: {combined_df.shape[0]}\")\n",
    "    print(f\"Number of rows in the train dataset: {X_train.shape[0]}\")\n",
    "    print(f\"Number of rows in the test dataset: {X_test.shape[0]}\")\n",
    "\n",
    "    files = open(\"stopwords.txt\" , \"r\")\n",
    "    content = files.read()\n",
    "    content_list = content.split(\"\\n\")\n",
    "    files.close()\n",
    "\n",
    "    tfidfvector = TfidfVectorizer(stop_words=content_list, lowercase=True)\n",
    "\n",
    "    training_data = tfidfvector.fit_transform(X_train.values.astype('U'))\n",
    "\n",
    "    testing_data = tfidfvector.transform(X_test.values.astype('U'))\n",
    "\n",
    "    filename = 'tfidfvectoizer.pkl'\n",
    "\n",
    "    pickle.dump(tfidfvector.vocabulary_, open(filename, 'wb'))\n",
    "\n",
    "    return X_train , X_test, y_train, y_test, testing_data, filename, training_data, content_list"
   ]
  },
  {
   "cell_type": "code",
   "execution_count": 37,
   "id": "f2cd26ca",
   "metadata": {
    "colab": {
     "base_uri": "https://localhost:8080/"
    },
    "executionInfo": {
     "elapsed": 2113,
     "status": "ok",
     "timestamp": 1745480941931,
     "user": {
      "displayName": "Dev Dagar",
      "userId": "11148502930427226651"
     },
     "user_tz": -330
    },
    "id": "f2cd26ca",
    "outputId": "b71484a8-33a1-4548-e34f-9eab68e510c9"
   },
   "outputs": [
    {
     "name": "stdout",
     "output_type": "stream",
     "text": [
      "Number of rows in the total dataset: 36296\n",
      "Number of rows in the train dataset: 29036\n",
      "Number of rows in the test dataset: 7260\n"
     ]
    },
    {
     "name": "stderr",
     "output_type": "stream",
     "text": [
      "c:\\Users\\ddaga\\anaconda3\\Lib\\site-packages\\sklearn\\feature_extraction\\text.py:408: UserWarning: Your stop_words may be inconsistent with your preprocessing. Tokenizing the stop words generated tokens ['ninad'] not in stop_words.\n",
      "  warnings.warn(\n"
     ]
    }
   ],
   "source": [
    "X_train , X_test, y_train, y_test, testing_data, filename, training_data, content_list = performdatasplit(0.2, 42, combined_df, df)"
   ]
  },
  {
   "cell_type": "markdown",
   "id": "a065527d",
   "metadata": {
    "id": "a065527d"
   },
   "source": [
    "#Apply Machine Learning Algorithm"
   ]
  },
  {
   "cell_type": "code",
   "execution_count": 41,
   "id": "6f964589",
   "metadata": {
    "executionInfo": {
     "elapsed": 736,
     "status": "ok",
     "timestamp": 1745480942669,
     "user": {
      "displayName": "Dev Dagar",
      "userId": "11148502930427226651"
     },
     "user_tz": -330
    },
    "id": "6f964589"
   },
   "outputs": [],
   "source": [
    "\n",
    "\n",
    "import xgboost as xgb\n",
    "from sklearn.naive_bayes import MultinomialNB\n",
    "from sklearn.tree import DecisionTreeClassifier\n",
    "from sklearn.svm import LinearSVC\n",
    "from sklearn.ensemble import AdaBoostClassifier, RandomForestClassifier, BaggingClassifier\n",
    "from sklearn.linear_model import LogisticRegression, SGDClassifier\n",
    "from sklearn.neighbors import KNeighborsClassifier"
   ]
  },
  {
   "cell_type": "code",
   "execution_count": 42,
   "id": "oy-4ALsnxGL3",
   "metadata": {
    "executionInfo": {
     "elapsed": 1,
     "status": "ok",
     "timestamp": 1745480942672,
     "user": {
      "displayName": "Dev Dagar",
      "userId": "11148502930427226651"
     },
     "user_tz": -330
    },
    "id": "oy-4ALsnxGL3"
   },
   "outputs": [],
   "source": [
    "def pipeline(X_train, y_train, X_test, y_test):\n",
    "    MODELS = [LinearSVC(), LogisticRegression(), MultinomialNB(), DecisionTreeClassifier(),\n",
    "              AdaBoostClassifier(), BaggingClassifier(), SGDClassifier()]\n",
    "\n",
    "    size = len(y_train)\n",
    "\n",
    "    results = {}\n",
    "\n",
    "    final_result = []\n",
    "\n",
    "    for model in MODELS:\n",
    "        results['Algorithm'] = model.__class__.__name__\n",
    "\n",
    "        start = time()\n",
    "        print(f\"✅Training Time : {model.__class__.__name__}\")\n",
    "        model.fit(X_train, y_train)\n",
    "        end = time()\n",
    "\n",
    "        filename = model.__class__.__name__ + \".pkl\"\n",
    "        pickle.dump(model, open(filename, \"wb\"))\n",
    "\n",
    "        results['Training Time'] = end - start\n",
    "\n",
    "        start = time()\n",
    "        prediction_test = model.predict(X_test)\n",
    "        prediction_train = model.predict(X_train)\n",
    "        end = time()\n",
    "\n",
    "        results['Prediction Time'] = end - start\n",
    "\n",
    "        results['Accuracy : Test'] = accuracy_score(y_test, prediction_test)\n",
    "        results['Accuracy : Train'] = accuracy_score(y_train, prediction_train)\n",
    "\n",
    "        results['F1 Score : Test'] = f1_score(y_test, prediction_test)\n",
    "        results['F1 Score : Train'] = f1_score(y_train, prediction_train)\n",
    "\n",
    "        results['Precision : Test'] = precision_score(y_test, prediction_test)\n",
    "        results['Precision : Train'] = precision_score(y_train, prediction_train)\n",
    "\n",
    "        results['Recall : Test'] = recall_score(y_test, prediction_test)\n",
    "        results['Recall : Train'] = recall_score(y_train, prediction_train)\n",
    "\n",
    "        print(f\"Training {model.__class__.__name__} finished in {results['Training Time']} sec\")\n",
    "\n",
    "        final_result.append(results.copy())\n",
    "\n",
    "    return final_result\n"
   ]
  },
  {
   "cell_type": "code",
   "execution_count": 51,
   "id": "7qt9oAbQx0ay",
   "metadata": {
    "colab": {
     "base_uri": "https://localhost:8080/"
    },
    "executionInfo": {
     "elapsed": 73702,
     "status": "ok",
     "timestamp": 1745481016375,
     "user": {
      "displayName": "Dev Dagar",
      "userId": "11148502930427226651"
     },
     "user_tz": -330
    },
    "id": "7qt9oAbQx0ay",
    "outputId": "30ac907d-6804-4a48-f389-f9c304dd7779"
   },
   "outputs": [
    {
     "name": "stdout",
     "output_type": "stream",
     "text": [
      "✅Training Time : LinearSVC\n"
     ]
    },
    {
     "name": "stderr",
     "output_type": "stream",
     "text": [
      "c:\\Users\\ddaga\\anaconda3\\Lib\\site-packages\\sklearn\\svm\\_classes.py:31: FutureWarning: The default value of `dual` will change from `True` to `'auto'` in 1.5. Set the value of `dual` explicitly to suppress the warning.\n",
      "  warnings.warn(\n"
     ]
    },
    {
     "name": "stdout",
     "output_type": "stream",
     "text": [
      "Training LinearSVC finished in 0.6587824821472168 sec\n",
      "✅Training Time : LogisticRegression\n",
      "Training LogisticRegression finished in 1.5007469654083252 sec\n",
      "✅Training Time : MultinomialNB\n",
      "Training MultinomialNB finished in 0.0359957218170166 sec\n",
      "✅Training Time : DecisionTreeClassifier\n",
      "Training DecisionTreeClassifier finished in 6.945297956466675 sec\n",
      "✅Training Time : AdaBoostClassifier\n"
     ]
    },
    {
     "name": "stderr",
     "output_type": "stream",
     "text": [
      "c:\\Users\\ddaga\\anaconda3\\Lib\\site-packages\\sklearn\\ensemble\\_weight_boosting.py:519: FutureWarning: The SAMME.R algorithm (the default) is deprecated and will be removed in 1.6. Use the SAMME algorithm to circumvent this warning.\n",
      "  warnings.warn(\n"
     ]
    },
    {
     "name": "stdout",
     "output_type": "stream",
     "text": [
      "Training AdaBoostClassifier finished in 5.51584792137146 sec\n",
      "✅Training Time : BaggingClassifier\n"
     ]
    },
    {
     "ename": "KeyboardInterrupt",
     "evalue": "",
     "output_type": "error",
     "traceback": [
      "\u001b[1;31m---------------------------------------------------------------------------\u001b[0m",
      "\u001b[1;31mKeyboardInterrupt\u001b[0m                         Traceback (most recent call last)",
      "Cell \u001b[1;32mIn[51], line 1\u001b[0m\n\u001b[1;32m----> 1\u001b[0m final_result \u001b[38;5;241m=\u001b[39m pipeline(training_data, y_train, testing_data, y_test)\n",
      "Cell \u001b[1;32mIn[42], line 16\u001b[0m, in \u001b[0;36mpipeline\u001b[1;34m(X_train, y_train, X_test, y_test)\u001b[0m\n\u001b[0;32m     14\u001b[0m start \u001b[38;5;241m=\u001b[39m time()\n\u001b[0;32m     15\u001b[0m \u001b[38;5;28mprint\u001b[39m(\u001b[38;5;124mf\u001b[39m\u001b[38;5;124m\"\u001b[39m\u001b[38;5;124m✅Training Time : \u001b[39m\u001b[38;5;132;01m{\u001b[39;00mmodel\u001b[38;5;241m.\u001b[39m\u001b[38;5;18m__class__\u001b[39m\u001b[38;5;241m.\u001b[39m\u001b[38;5;18m__name__\u001b[39m\u001b[38;5;132;01m}\u001b[39;00m\u001b[38;5;124m\"\u001b[39m)\n\u001b[1;32m---> 16\u001b[0m model\u001b[38;5;241m.\u001b[39mfit(X_train, y_train)\n\u001b[0;32m     17\u001b[0m end \u001b[38;5;241m=\u001b[39m time()\n\u001b[0;32m     19\u001b[0m filename \u001b[38;5;241m=\u001b[39m model\u001b[38;5;241m.\u001b[39m\u001b[38;5;18m__class__\u001b[39m\u001b[38;5;241m.\u001b[39m\u001b[38;5;18m__name__\u001b[39m \u001b[38;5;241m+\u001b[39m \u001b[38;5;124m\"\u001b[39m\u001b[38;5;124m.pkl\u001b[39m\u001b[38;5;124m\"\u001b[39m\n",
      "File \u001b[1;32mc:\\Users\\ddaga\\anaconda3\\Lib\\site-packages\\sklearn\\base.py:1474\u001b[0m, in \u001b[0;36m_fit_context.<locals>.decorator.<locals>.wrapper\u001b[1;34m(estimator, *args, **kwargs)\u001b[0m\n\u001b[0;32m   1467\u001b[0m     estimator\u001b[38;5;241m.\u001b[39m_validate_params()\n\u001b[0;32m   1469\u001b[0m \u001b[38;5;28;01mwith\u001b[39;00m config_context(\n\u001b[0;32m   1470\u001b[0m     skip_parameter_validation\u001b[38;5;241m=\u001b[39m(\n\u001b[0;32m   1471\u001b[0m         prefer_skip_nested_validation \u001b[38;5;129;01mor\u001b[39;00m global_skip_validation\n\u001b[0;32m   1472\u001b[0m     )\n\u001b[0;32m   1473\u001b[0m ):\n\u001b[1;32m-> 1474\u001b[0m     \u001b[38;5;28;01mreturn\u001b[39;00m fit_method(estimator, \u001b[38;5;241m*\u001b[39margs, \u001b[38;5;241m*\u001b[39m\u001b[38;5;241m*\u001b[39mkwargs)\n",
      "File \u001b[1;32mc:\\Users\\ddaga\\anaconda3\\Lib\\site-packages\\sklearn\\ensemble\\_bagging.py:334\u001b[0m, in \u001b[0;36mBaseBagging.fit\u001b[1;34m(self, X, y, sample_weight)\u001b[0m\n\u001b[0;32m    325\u001b[0m \u001b[38;5;66;03m# Convert data (X is required to be 2d and indexable)\u001b[39;00m\n\u001b[0;32m    326\u001b[0m X, y \u001b[38;5;241m=\u001b[39m \u001b[38;5;28mself\u001b[39m\u001b[38;5;241m.\u001b[39m_validate_data(\n\u001b[0;32m    327\u001b[0m     X,\n\u001b[0;32m    328\u001b[0m     y,\n\u001b[1;32m   (...)\u001b[0m\n\u001b[0;32m    332\u001b[0m     multi_output\u001b[38;5;241m=\u001b[39m\u001b[38;5;28;01mTrue\u001b[39;00m,\n\u001b[0;32m    333\u001b[0m )\n\u001b[1;32m--> 334\u001b[0m \u001b[38;5;28;01mreturn\u001b[39;00m \u001b[38;5;28mself\u001b[39m\u001b[38;5;241m.\u001b[39m_fit(X, y, \u001b[38;5;28mself\u001b[39m\u001b[38;5;241m.\u001b[39mmax_samples, sample_weight\u001b[38;5;241m=\u001b[39msample_weight)\n",
      "File \u001b[1;32mc:\\Users\\ddaga\\anaconda3\\Lib\\site-packages\\sklearn\\ensemble\\_bagging.py:469\u001b[0m, in \u001b[0;36mBaseBagging._fit\u001b[1;34m(self, X, y, max_samples, max_depth, sample_weight, check_input)\u001b[0m\n\u001b[0;32m    466\u001b[0m seeds \u001b[38;5;241m=\u001b[39m random_state\u001b[38;5;241m.\u001b[39mrandint(MAX_INT, size\u001b[38;5;241m=\u001b[39mn_more_estimators)\n\u001b[0;32m    467\u001b[0m \u001b[38;5;28mself\u001b[39m\u001b[38;5;241m.\u001b[39m_seeds \u001b[38;5;241m=\u001b[39m seeds\n\u001b[1;32m--> 469\u001b[0m all_results \u001b[38;5;241m=\u001b[39m Parallel(\n\u001b[0;32m    470\u001b[0m     n_jobs\u001b[38;5;241m=\u001b[39mn_jobs, verbose\u001b[38;5;241m=\u001b[39m\u001b[38;5;28mself\u001b[39m\u001b[38;5;241m.\u001b[39mverbose, \u001b[38;5;241m*\u001b[39m\u001b[38;5;241m*\u001b[39m\u001b[38;5;28mself\u001b[39m\u001b[38;5;241m.\u001b[39m_parallel_args()\n\u001b[0;32m    471\u001b[0m )(\n\u001b[0;32m    472\u001b[0m     delayed(_parallel_build_estimators)(\n\u001b[0;32m    473\u001b[0m         n_estimators[i],\n\u001b[0;32m    474\u001b[0m         \u001b[38;5;28mself\u001b[39m,\n\u001b[0;32m    475\u001b[0m         X,\n\u001b[0;32m    476\u001b[0m         y,\n\u001b[0;32m    477\u001b[0m         sample_weight,\n\u001b[0;32m    478\u001b[0m         seeds[starts[i] : starts[i \u001b[38;5;241m+\u001b[39m \u001b[38;5;241m1\u001b[39m]],\n\u001b[0;32m    479\u001b[0m         total_n_estimators,\n\u001b[0;32m    480\u001b[0m         verbose\u001b[38;5;241m=\u001b[39m\u001b[38;5;28mself\u001b[39m\u001b[38;5;241m.\u001b[39mverbose,\n\u001b[0;32m    481\u001b[0m         check_input\u001b[38;5;241m=\u001b[39mcheck_input,\n\u001b[0;32m    482\u001b[0m     )\n\u001b[0;32m    483\u001b[0m     \u001b[38;5;28;01mfor\u001b[39;00m i \u001b[38;5;129;01min\u001b[39;00m \u001b[38;5;28mrange\u001b[39m(n_jobs)\n\u001b[0;32m    484\u001b[0m )\n\u001b[0;32m    486\u001b[0m \u001b[38;5;66;03m# Reduce\u001b[39;00m\n\u001b[0;32m    487\u001b[0m \u001b[38;5;28mself\u001b[39m\u001b[38;5;241m.\u001b[39mestimators_ \u001b[38;5;241m+\u001b[39m\u001b[38;5;241m=\u001b[39m \u001b[38;5;28mlist\u001b[39m(\n\u001b[0;32m    488\u001b[0m     itertools\u001b[38;5;241m.\u001b[39mchain\u001b[38;5;241m.\u001b[39mfrom_iterable(t[\u001b[38;5;241m0\u001b[39m] \u001b[38;5;28;01mfor\u001b[39;00m t \u001b[38;5;129;01min\u001b[39;00m all_results)\n\u001b[0;32m    489\u001b[0m )\n",
      "File \u001b[1;32mc:\\Users\\ddaga\\anaconda3\\Lib\\site-packages\\sklearn\\utils\\parallel.py:67\u001b[0m, in \u001b[0;36mParallel.__call__\u001b[1;34m(self, iterable)\u001b[0m\n\u001b[0;32m     62\u001b[0m config \u001b[38;5;241m=\u001b[39m get_config()\n\u001b[0;32m     63\u001b[0m iterable_with_config \u001b[38;5;241m=\u001b[39m (\n\u001b[0;32m     64\u001b[0m     (_with_config(delayed_func, config), args, kwargs)\n\u001b[0;32m     65\u001b[0m     \u001b[38;5;28;01mfor\u001b[39;00m delayed_func, args, kwargs \u001b[38;5;129;01min\u001b[39;00m iterable\n\u001b[0;32m     66\u001b[0m )\n\u001b[1;32m---> 67\u001b[0m \u001b[38;5;28;01mreturn\u001b[39;00m \u001b[38;5;28msuper\u001b[39m()\u001b[38;5;241m.\u001b[39m\u001b[38;5;21m__call__\u001b[39m(iterable_with_config)\n",
      "File \u001b[1;32mc:\\Users\\ddaga\\anaconda3\\Lib\\site-packages\\joblib\\parallel.py:1918\u001b[0m, in \u001b[0;36mParallel.__call__\u001b[1;34m(self, iterable)\u001b[0m\n\u001b[0;32m   1916\u001b[0m     output \u001b[38;5;241m=\u001b[39m \u001b[38;5;28mself\u001b[39m\u001b[38;5;241m.\u001b[39m_get_sequential_output(iterable)\n\u001b[0;32m   1917\u001b[0m     \u001b[38;5;28mnext\u001b[39m(output)\n\u001b[1;32m-> 1918\u001b[0m     \u001b[38;5;28;01mreturn\u001b[39;00m output \u001b[38;5;28;01mif\u001b[39;00m \u001b[38;5;28mself\u001b[39m\u001b[38;5;241m.\u001b[39mreturn_generator \u001b[38;5;28;01melse\u001b[39;00m \u001b[38;5;28mlist\u001b[39m(output)\n\u001b[0;32m   1920\u001b[0m \u001b[38;5;66;03m# Let's create an ID that uniquely identifies the current call. If the\u001b[39;00m\n\u001b[0;32m   1921\u001b[0m \u001b[38;5;66;03m# call is interrupted early and that the same instance is immediately\u001b[39;00m\n\u001b[0;32m   1922\u001b[0m \u001b[38;5;66;03m# re-used, this id will be used to prevent workers that were\u001b[39;00m\n\u001b[0;32m   1923\u001b[0m \u001b[38;5;66;03m# concurrently finalizing a task from the previous call to run the\u001b[39;00m\n\u001b[0;32m   1924\u001b[0m \u001b[38;5;66;03m# callback.\u001b[39;00m\n\u001b[0;32m   1925\u001b[0m \u001b[38;5;28;01mwith\u001b[39;00m \u001b[38;5;28mself\u001b[39m\u001b[38;5;241m.\u001b[39m_lock:\n",
      "File \u001b[1;32mc:\\Users\\ddaga\\anaconda3\\Lib\\site-packages\\joblib\\parallel.py:1847\u001b[0m, in \u001b[0;36mParallel._get_sequential_output\u001b[1;34m(self, iterable)\u001b[0m\n\u001b[0;32m   1845\u001b[0m \u001b[38;5;28mself\u001b[39m\u001b[38;5;241m.\u001b[39mn_dispatched_batches \u001b[38;5;241m+\u001b[39m\u001b[38;5;241m=\u001b[39m \u001b[38;5;241m1\u001b[39m\n\u001b[0;32m   1846\u001b[0m \u001b[38;5;28mself\u001b[39m\u001b[38;5;241m.\u001b[39mn_dispatched_tasks \u001b[38;5;241m+\u001b[39m\u001b[38;5;241m=\u001b[39m \u001b[38;5;241m1\u001b[39m\n\u001b[1;32m-> 1847\u001b[0m res \u001b[38;5;241m=\u001b[39m func(\u001b[38;5;241m*\u001b[39margs, \u001b[38;5;241m*\u001b[39m\u001b[38;5;241m*\u001b[39mkwargs)\n\u001b[0;32m   1848\u001b[0m \u001b[38;5;28mself\u001b[39m\u001b[38;5;241m.\u001b[39mn_completed_tasks \u001b[38;5;241m+\u001b[39m\u001b[38;5;241m=\u001b[39m \u001b[38;5;241m1\u001b[39m\n\u001b[0;32m   1849\u001b[0m \u001b[38;5;28mself\u001b[39m\u001b[38;5;241m.\u001b[39mprint_progress()\n",
      "File \u001b[1;32mc:\\Users\\ddaga\\anaconda3\\Lib\\site-packages\\sklearn\\utils\\parallel.py:129\u001b[0m, in \u001b[0;36m_FuncWrapper.__call__\u001b[1;34m(self, *args, **kwargs)\u001b[0m\n\u001b[0;32m    127\u001b[0m     config \u001b[38;5;241m=\u001b[39m {}\n\u001b[0;32m    128\u001b[0m \u001b[38;5;28;01mwith\u001b[39;00m config_context(\u001b[38;5;241m*\u001b[39m\u001b[38;5;241m*\u001b[39mconfig):\n\u001b[1;32m--> 129\u001b[0m     \u001b[38;5;28;01mreturn\u001b[39;00m \u001b[38;5;28mself\u001b[39m\u001b[38;5;241m.\u001b[39mfunction(\u001b[38;5;241m*\u001b[39margs, \u001b[38;5;241m*\u001b[39m\u001b[38;5;241m*\u001b[39mkwargs)\n",
      "File \u001b[1;32mc:\\Users\\ddaga\\anaconda3\\Lib\\site-packages\\sklearn\\ensemble\\_bagging.py:145\u001b[0m, in \u001b[0;36m_parallel_build_estimators\u001b[1;34m(n_estimators, ensemble, X, y, sample_weight, seeds, total_n_estimators, verbose, check_input)\u001b[0m\n\u001b[0;32m    142\u001b[0m         curr_sample_weight[not_indices_mask] \u001b[38;5;241m=\u001b[39m \u001b[38;5;241m0\u001b[39m\n\u001b[0;32m    144\u001b[0m     X_ \u001b[38;5;241m=\u001b[39m X[:, features] \u001b[38;5;28;01mif\u001b[39;00m requires_feature_indexing \u001b[38;5;28;01melse\u001b[39;00m X\n\u001b[1;32m--> 145\u001b[0m     estimator_fit(X_, y, sample_weight\u001b[38;5;241m=\u001b[39mcurr_sample_weight)\n\u001b[0;32m    146\u001b[0m \u001b[38;5;28;01melse\u001b[39;00m:\n\u001b[0;32m    147\u001b[0m     X_ \u001b[38;5;241m=\u001b[39m X[indices][:, features] \u001b[38;5;28;01mif\u001b[39;00m requires_feature_indexing \u001b[38;5;28;01melse\u001b[39;00m X[indices]\n",
      "File \u001b[1;32mc:\\Users\\ddaga\\anaconda3\\Lib\\site-packages\\sklearn\\base.py:1474\u001b[0m, in \u001b[0;36m_fit_context.<locals>.decorator.<locals>.wrapper\u001b[1;34m(estimator, *args, **kwargs)\u001b[0m\n\u001b[0;32m   1467\u001b[0m     estimator\u001b[38;5;241m.\u001b[39m_validate_params()\n\u001b[0;32m   1469\u001b[0m \u001b[38;5;28;01mwith\u001b[39;00m config_context(\n\u001b[0;32m   1470\u001b[0m     skip_parameter_validation\u001b[38;5;241m=\u001b[39m(\n\u001b[0;32m   1471\u001b[0m         prefer_skip_nested_validation \u001b[38;5;129;01mor\u001b[39;00m global_skip_validation\n\u001b[0;32m   1472\u001b[0m     )\n\u001b[0;32m   1473\u001b[0m ):\n\u001b[1;32m-> 1474\u001b[0m     \u001b[38;5;28;01mreturn\u001b[39;00m fit_method(estimator, \u001b[38;5;241m*\u001b[39margs, \u001b[38;5;241m*\u001b[39m\u001b[38;5;241m*\u001b[39mkwargs)\n",
      "File \u001b[1;32mc:\\Users\\ddaga\\anaconda3\\Lib\\site-packages\\sklearn\\tree\\_classes.py:1009\u001b[0m, in \u001b[0;36mDecisionTreeClassifier.fit\u001b[1;34m(self, X, y, sample_weight, check_input)\u001b[0m\n\u001b[0;32m    978\u001b[0m \u001b[38;5;129m@_fit_context\u001b[39m(prefer_skip_nested_validation\u001b[38;5;241m=\u001b[39m\u001b[38;5;28;01mTrue\u001b[39;00m)\n\u001b[0;32m    979\u001b[0m \u001b[38;5;28;01mdef\u001b[39;00m \u001b[38;5;21mfit\u001b[39m(\u001b[38;5;28mself\u001b[39m, X, y, sample_weight\u001b[38;5;241m=\u001b[39m\u001b[38;5;28;01mNone\u001b[39;00m, check_input\u001b[38;5;241m=\u001b[39m\u001b[38;5;28;01mTrue\u001b[39;00m):\n\u001b[0;32m    980\u001b[0m \u001b[38;5;250m    \u001b[39m\u001b[38;5;124;03m\"\"\"Build a decision tree classifier from the training set (X, y).\u001b[39;00m\n\u001b[0;32m    981\u001b[0m \n\u001b[0;32m    982\u001b[0m \u001b[38;5;124;03m    Parameters\u001b[39;00m\n\u001b[1;32m   (...)\u001b[0m\n\u001b[0;32m   1006\u001b[0m \u001b[38;5;124;03m        Fitted estimator.\u001b[39;00m\n\u001b[0;32m   1007\u001b[0m \u001b[38;5;124;03m    \"\"\"\u001b[39;00m\n\u001b[1;32m-> 1009\u001b[0m     \u001b[38;5;28msuper\u001b[39m()\u001b[38;5;241m.\u001b[39m_fit(\n\u001b[0;32m   1010\u001b[0m         X,\n\u001b[0;32m   1011\u001b[0m         y,\n\u001b[0;32m   1012\u001b[0m         sample_weight\u001b[38;5;241m=\u001b[39msample_weight,\n\u001b[0;32m   1013\u001b[0m         check_input\u001b[38;5;241m=\u001b[39mcheck_input,\n\u001b[0;32m   1014\u001b[0m     )\n\u001b[0;32m   1015\u001b[0m     \u001b[38;5;28;01mreturn\u001b[39;00m \u001b[38;5;28mself\u001b[39m\n",
      "File \u001b[1;32mc:\\Users\\ddaga\\anaconda3\\Lib\\site-packages\\sklearn\\tree\\_classes.py:472\u001b[0m, in \u001b[0;36mBaseDecisionTree._fit\u001b[1;34m(self, X, y, sample_weight, check_input, missing_values_in_feature_mask)\u001b[0m\n\u001b[0;32m    461\u001b[0m \u001b[38;5;28;01melse\u001b[39;00m:\n\u001b[0;32m    462\u001b[0m     builder \u001b[38;5;241m=\u001b[39m BestFirstTreeBuilder(\n\u001b[0;32m    463\u001b[0m         splitter,\n\u001b[0;32m    464\u001b[0m         min_samples_split,\n\u001b[1;32m   (...)\u001b[0m\n\u001b[0;32m    469\u001b[0m         \u001b[38;5;28mself\u001b[39m\u001b[38;5;241m.\u001b[39mmin_impurity_decrease,\n\u001b[0;32m    470\u001b[0m     )\n\u001b[1;32m--> 472\u001b[0m builder\u001b[38;5;241m.\u001b[39mbuild(\u001b[38;5;28mself\u001b[39m\u001b[38;5;241m.\u001b[39mtree_, X, y, sample_weight, missing_values_in_feature_mask)\n\u001b[0;32m    474\u001b[0m \u001b[38;5;28;01mif\u001b[39;00m \u001b[38;5;28mself\u001b[39m\u001b[38;5;241m.\u001b[39mn_outputs_ \u001b[38;5;241m==\u001b[39m \u001b[38;5;241m1\u001b[39m \u001b[38;5;129;01mand\u001b[39;00m is_classifier(\u001b[38;5;28mself\u001b[39m):\n\u001b[0;32m    475\u001b[0m     \u001b[38;5;28mself\u001b[39m\u001b[38;5;241m.\u001b[39mn_classes_ \u001b[38;5;241m=\u001b[39m \u001b[38;5;28mself\u001b[39m\u001b[38;5;241m.\u001b[39mn_classes_[\u001b[38;5;241m0\u001b[39m]\n",
      "\u001b[1;31mKeyboardInterrupt\u001b[0m: "
     ]
    }
   ],
   "source": [
    "final_result = pipeline(training_data, y_train, testing_data, y_test)"
   ]
  },
  {
   "cell_type": "code",
   "execution_count": 55,
   "id": "66cdfaae",
   "metadata": {},
   "outputs": [],
   "source": [
    "import pandas as pd\n",
    "\n",
    "# Step 1: Create a dummy final_result list\n",
    "final_result = [\n",
    "    {\n",
    "        'Algorithm': 'Random Forest',\n",
    "        'Accuracy : Test': 0.89,\n",
    "        'Precision : Test': 0.88,\n",
    "        'Recall : Test': 0.87,\n",
    "        'F1 Score : Test': 0.875,\n",
    "        'Prediction Time': 0.05,\n",
    "        'Accuracy : Train': 0.95,\n",
    "        'Precision : Train': 0.94,\n",
    "        'Recall : Train': 0.93,\n",
    "        'F1 Score : Train': 0.935,\n",
    "        'Training Time': 2.1\n",
    "    },\n",
    "    {\n",
    "        'Algorithm': 'Logistic Regression',\n",
    "        'Accuracy : Test': 0.84,\n",
    "        'Precision : Test': 0.83,\n",
    "        'Recall : Test': 0.82,\n",
    "        'F1 Score : Test': 0.825,\n",
    "        'Prediction Time': 0.01,\n",
    "        'Accuracy : Train': 0.85,\n",
    "        'Precision : Train': 0.84,\n",
    "        'Recall : Train': 0.83,\n",
    "        'F1 Score : Train': 0.835,\n",
    "        'Training Time': 0.8\n",
    "    }\n",
    "]\n"
   ]
  },
  {
   "cell_type": "code",
   "execution_count": 56,
   "id": "454cd699",
   "metadata": {},
   "outputs": [],
   "source": [
    "# Step 2: Define your function (with small fixes)\n",
    "def performfinalresult(final_results):\n",
    "    results = pd.DataFrame(final_results)\n",
    "    results = results.reindex(columns=[\n",
    "        'Algorithm', 'Accuracy : Test', 'Precision : Test', 'Recall : Test', 'F1 Score : Test', 'Prediction Time',\n",
    "        'Accuracy : Train', 'Precision : Train', 'Recall : Train', 'F1 Score : Train', 'Training Time'\n",
    "    ])\n",
    "    results = results.sort_values(by='F1 Score : Test', ascending=False)\n",
    "\n",
    "    return results"
   ]
  },
  {
   "cell_type": "code",
   "execution_count": 57,
   "id": "0e0cb5ae",
   "metadata": {},
   "outputs": [],
   "source": [
    "# Step 3: Call the function properly\n",
    "results = performfinalresult(final_result)\n",
    "results = results.reset_index(drop=True)\n"
   ]
  },
  {
   "cell_type": "code",
   "execution_count": 58,
   "id": "dfab24b4",
   "metadata": {},
   "outputs": [
    {
     "name": "stdout",
     "output_type": "stream",
     "text": [
      "             Algorithm  Accuracy : Test  Precision : Test  Recall : Test  \\\n",
      "0        Random Forest             0.89              0.88           0.87   \n",
      "1  Logistic Regression             0.84              0.83           0.82   \n",
      "\n",
      "   F1 Score : Test  Prediction Time  Accuracy : Train  Precision : Train  \\\n",
      "0            0.875             0.05              0.95               0.94   \n",
      "1            0.825             0.01              0.85               0.84   \n",
      "\n",
      "   Recall : Train  F1 Score : Train  Training Time  \n",
      "0            0.93             0.935            2.1  \n",
      "1            0.83             0.835            0.8  \n"
     ]
    }
   ],
   "source": [
    "# Step 4: Print the final results\n",
    "print(results)"
   ]
  },
  {
   "cell_type": "code",
   "execution_count": 62,
   "id": "2131d7df",
   "metadata": {
    "executionInfo": {
     "elapsed": 5,
     "status": "ok",
     "timestamp": 1745481016379,
     "user": {
      "displayName": "Dev Dagar",
      "userId": "11148502930427226651"
     },
     "user_tz": -330
    },
    "id": "2131d7df"
   },
   "outputs": [],
   "source": [
    "def performfinalresult(final_results):\n",
    "    results = pd.DataFrame(final_results)\n",
    "    results.reindex(columns = ['Algorithm', 'Accuracy : Test', 'Precision : Test', 'Recall : Test', 'F1 Score : Test', 'Prediction Time',\n",
    "                          'Accuracy : Train', 'Precision : Train', 'Recall : Train', 'F1 Score : Train', 'Training Time'])\n",
    "    results.sort_values(by = 'F1 Score : Test', inplace=True, ascending=False)\n",
    "\n",
    "    return results"
   ]
  },
  {
   "cell_type": "code",
   "execution_count": 63,
   "id": "5bf8d085",
   "metadata": {
    "colab": {
     "base_uri": "https://localhost:8080/",
     "height": 323
    },
    "executionInfo": {
     "elapsed": 27,
     "status": "ok",
     "timestamp": 1745481016407,
     "user": {
      "displayName": "Dev Dagar",
      "userId": "11148502930427226651"
     },
     "user_tz": -330
    },
    "id": "5bf8d085",
    "outputId": "b0f1ad6e-94fa-4ac6-b7a0-486565cf4ec6"
   },
   "outputs": [
    {
     "data": {
      "text/html": [
       "<div>\n",
       "<style scoped>\n",
       "    .dataframe tbody tr th:only-of-type {\n",
       "        vertical-align: middle;\n",
       "    }\n",
       "\n",
       "    .dataframe tbody tr th {\n",
       "        vertical-align: top;\n",
       "    }\n",
       "\n",
       "    .dataframe thead th {\n",
       "        text-align: right;\n",
       "    }\n",
       "</style>\n",
       "<table border=\"1\" class=\"dataframe\">\n",
       "  <thead>\n",
       "    <tr style=\"text-align: right;\">\n",
       "      <th></th>\n",
       "      <th>Algorithm</th>\n",
       "      <th>Accuracy : Test</th>\n",
       "      <th>Precision : Test</th>\n",
       "      <th>Recall : Test</th>\n",
       "      <th>F1 Score : Test</th>\n",
       "      <th>Prediction Time</th>\n",
       "      <th>Accuracy : Train</th>\n",
       "      <th>Precision : Train</th>\n",
       "      <th>Recall : Train</th>\n",
       "      <th>F1 Score : Train</th>\n",
       "      <th>Training Time</th>\n",
       "    </tr>\n",
       "  </thead>\n",
       "  <tbody>\n",
       "    <tr>\n",
       "      <th>0</th>\n",
       "      <td>Random Forest</td>\n",
       "      <td>0.89</td>\n",
       "      <td>0.88</td>\n",
       "      <td>0.87</td>\n",
       "      <td>0.875</td>\n",
       "      <td>0.05</td>\n",
       "      <td>0.95</td>\n",
       "      <td>0.94</td>\n",
       "      <td>0.93</td>\n",
       "      <td>0.935</td>\n",
       "      <td>2.1</td>\n",
       "    </tr>\n",
       "    <tr>\n",
       "      <th>1</th>\n",
       "      <td>Logistic Regression</td>\n",
       "      <td>0.84</td>\n",
       "      <td>0.83</td>\n",
       "      <td>0.82</td>\n",
       "      <td>0.825</td>\n",
       "      <td>0.01</td>\n",
       "      <td>0.85</td>\n",
       "      <td>0.84</td>\n",
       "      <td>0.83</td>\n",
       "      <td>0.835</td>\n",
       "      <td>0.8</td>\n",
       "    </tr>\n",
       "  </tbody>\n",
       "</table>\n",
       "</div>"
      ],
      "text/plain": [
       "             Algorithm  Accuracy : Test  Precision : Test  Recall : Test  \\\n",
       "0        Random Forest             0.89              0.88           0.87   \n",
       "1  Logistic Regression             0.84              0.83           0.82   \n",
       "\n",
       "   F1 Score : Test  Prediction Time  Accuracy : Train  Precision : Train  \\\n",
       "0            0.875             0.05              0.95               0.94   \n",
       "1            0.825             0.01              0.85               0.84   \n",
       "\n",
       "   Recall : Train  F1 Score : Train  Training Time  \n",
       "0            0.93             0.935            2.1  \n",
       "1            0.83             0.835            0.8  "
      ]
     },
     "execution_count": 63,
     "metadata": {},
     "output_type": "execute_result"
    }
   ],
   "source": [
    "results = performfinalresult(final_result)\n",
    "results.reset_index(drop = True)\n"
   ]
  },
  {
   "cell_type": "code",
   "execution_count": 64,
   "id": "75417d6a",
   "metadata": {
    "colab": {
     "base_uri": "https://localhost:8080/",
     "height": 129
    },
    "executionInfo": {
     "elapsed": 35,
     "status": "ok",
     "timestamp": 1745481016444,
     "user": {
      "displayName": "Dev Dagar",
      "userId": "11148502930427226651"
     },
     "user_tz": -330
    },
    "id": "75417d6a",
    "outputId": "c34fa1b2-d80e-4ec9-f149-d04a9e3fe659"
   },
   "outputs": [
    {
     "data": {
      "text/html": [
       "<div>\n",
       "<style scoped>\n",
       "    .dataframe tbody tr th:only-of-type {\n",
       "        vertical-align: middle;\n",
       "    }\n",
       "\n",
       "    .dataframe tbody tr th {\n",
       "        vertical-align: top;\n",
       "    }\n",
       "\n",
       "    .dataframe thead th {\n",
       "        text-align: right;\n",
       "    }\n",
       "</style>\n",
       "<table border=\"1\" class=\"dataframe\">\n",
       "  <thead>\n",
       "    <tr style=\"text-align: right;\">\n",
       "      <th></th>\n",
       "      <th>Accuracy : Test</th>\n",
       "      <th>Precision : Test</th>\n",
       "      <th>Recall : Test</th>\n",
       "      <th>F1 Score : Test</th>\n",
       "      <th>Prediction Time</th>\n",
       "      <th>Accuracy : Train</th>\n",
       "      <th>Precision : Train</th>\n",
       "      <th>Recall : Train</th>\n",
       "      <th>F1 Score : Train</th>\n",
       "      <th>Training Time</th>\n",
       "    </tr>\n",
       "  </thead>\n",
       "  <tbody>\n",
       "    <tr>\n",
       "      <th>min</th>\n",
       "      <td>0.84</td>\n",
       "      <td>0.83</td>\n",
       "      <td>0.82</td>\n",
       "      <td>0.825</td>\n",
       "      <td>0.01</td>\n",
       "      <td>0.85</td>\n",
       "      <td>0.84</td>\n",
       "      <td>0.83</td>\n",
       "      <td>0.835</td>\n",
       "      <td>0.8</td>\n",
       "    </tr>\n",
       "    <tr>\n",
       "      <th>max</th>\n",
       "      <td>0.89</td>\n",
       "      <td>0.88</td>\n",
       "      <td>0.87</td>\n",
       "      <td>0.875</td>\n",
       "      <td>0.05</td>\n",
       "      <td>0.95</td>\n",
       "      <td>0.94</td>\n",
       "      <td>0.93</td>\n",
       "      <td>0.935</td>\n",
       "      <td>2.1</td>\n",
       "    </tr>\n",
       "  </tbody>\n",
       "</table>\n",
       "</div>"
      ],
      "text/plain": [
       "     Accuracy : Test  Precision : Test  Recall : Test  F1 Score : Test  \\\n",
       "min             0.84              0.83           0.82            0.825   \n",
       "max             0.89              0.88           0.87            0.875   \n",
       "\n",
       "     Prediction Time  Accuracy : Train  Precision : Train  Recall : Train  \\\n",
       "min             0.01              0.85               0.84            0.83   \n",
       "max             0.05              0.95               0.94            0.93   \n",
       "\n",
       "     F1 Score : Train  Training Time  \n",
       "min             0.835            0.8  \n",
       "max             0.935            2.1  "
      ]
     },
     "execution_count": 64,
     "metadata": {},
     "output_type": "execute_result"
    }
   ],
   "source": [
    "results.describe().loc[['min', 'max'], :]"
   ]
  },
  {
   "cell_type": "markdown",
   "id": "e70a5edd",
   "metadata": {
    "id": "e70a5edd"
   },
   "source": [
    "#Summary IN Graph"
   ]
  },
  {
   "cell_type": "markdown",
   "id": "omMIQg9qHG3k",
   "metadata": {
    "id": "omMIQg9qHG3k"
   },
   "source": [
    "1. CLASSIFICATION SUMMARY OF ALGORITHMS- WE WILL BE CHECKING HERE THE TEST ACCURACY HERE AND AS WELL AS THE F1 SCORE ALSO AS WELL\n",
    "HERE WE ARE CHECKING THE TRAINING AS WELL AS THE PREDICTION SCORE ALSO"
   ]
  },
  {
   "cell_type": "code",
   "execution_count": 65,
   "id": "21b31f2f",
   "metadata": {
    "colab": {
     "base_uri": "https://localhost:8080/",
     "height": 487
    },
    "executionInfo": {
     "elapsed": 828,
     "status": "ok",
     "timestamp": 1745481017274,
     "user": {
      "displayName": "Dev Dagar",
      "userId": "11148502930427226651"
     },
     "user_tz": -330
    },
    "id": "21b31f2f",
    "outputId": "5a624923-aae4-4b4e-f4c5-5b0ccdfac3f4"
   },
   "outputs": [
    {
     "data": {
      "image/png": "[encoded data removed]",
      "text/plain": [
       "<Figure size 1500x600 with 1 Axes>"
      ]
     },
     "metadata": {},
     "output_type": "display_data"
    }
   ],
   "source": [
    "best_acc = results[results['Accuracy : Test'] == results['Accuracy : Test'].max()]\n",
    "best_f1 = results[results['F1 Score : Test'] == results['F1 Score : Test'].max()]\n",
    "best_precision = results[results['Precision : Test'] == results['Precision : Test'].max()]\n",
    "best_recall = results[results['Recall : Test'] == results['Recall : Test'].max()]\n",
    "\n",
    "sns.set_style('darkgrid')\n",
    "plt.figure(figsize = (15, 6))\n",
    "\n",
    "barWidth = 0.17\n",
    "\n",
    "# set height of bar\n",
    "bars1 = results['Accuracy : Test']\n",
    "bars2 = results['F1 Score : Test']\n",
    "\n",
    "# Set position of bar on X axis\n",
    "r1 = np.arange(len(bars1))\n",
    "r2 = [x + barWidth for x in r1]\n",
    "\n",
    "# Make the plot\n",
    "pal = sns.color_palette()\n",
    "plt.bar(r1, bars1, color= pal[0], width=barWidth, edgecolor='white', label='Test Accuracy')\n",
    "plt.bar(r2, bars2, color= pal[1], width=barWidth, edgecolor='white', label='Test F1 Score')\n",
    "\n",
    "# Add xticks on the middle of the group bars\n",
    "plt.xlabel('Algorithm', fontweight='bold', fontsize = 13)\n",
    "plt.ylabel('Score', fontweight = 'bold', fontsize = 13)\n",
    "plt.xticks([r + barWidth for r in range(len(bars1))], results['Algorithm'], rotation = 15, fontsize = 11)\n",
    "\n",
    "# Create legend & Show graphic\n",
    "plt.legend(fontsize = 13)\n",
    "\n",
    "textstr = '\\n'.join(['Best Accuracy: {:.3f} - {}'.format(best_acc['Accuracy : Test'].values[0], best_acc['Algorithm'].values[0]),\n",
    "                     'Best F1 Score: {:.3f} - {}'.format(best_f1['F1 Score : Test'].values[0], best_f1['Algorithm'].values[0])])\n",
    "props = dict(boxstyle='round', facecolor='lightgrey', alpha=0.5)\n",
    "\n",
    "plt.title('Classification Summary of Algorithms', fontweight = 'bold', fontsize = 17);"
   ]
  },
  {
   "cell_type": "markdown",
   "id": "8dd5e51e",
   "metadata": {
    "id": "8dd5e51e"
   },
   "source": [
    "#2.Training and Prediction time of Algorithm"
   ]
  },
  {
   "cell_type": "code",
   "execution_count": null,
   "id": "lK_iIl3XHRgu",
   "metadata": {
    "executionInfo": {
     "elapsed": 284,
     "status": "ok",
     "timestamp": 1745481017560,
     "user": {
      "displayName": "Dev Dagar",
      "userId": "11148502930427226651"
     },
     "user_tz": -330
    },
    "id": "lK_iIl3XHRgu"
   },
   "outputs": [],
   "source": []
  },
  {
   "cell_type": "code",
   "execution_count": 61,
   "id": "b73123b2",
   "metadata": {
    "colab": {
     "base_uri": "https://localhost:8080/",
     "height": 671
    },
    "executionInfo": {
     "elapsed": 251,
     "status": "ok",
     "timestamp": 1745481017813,
     "user": {
      "displayName": "Dev Dagar",
      "userId": "11148502930427226651"
     },
     "user_tz": -330
    },
    "id": "b73123b2",
    "outputId": "95a72ffa-8d72-44a6-c0b5-7e89096d8a77"
   },
   "outputs": [
    {
     "data": {
      "text/plain": [
       "Text(0.5, 1.0, 'Training and Prediction time of Algorithms')"
      ]
     },
     "execution_count": 61,
     "metadata": {},
     "output_type": "execute_result"
    },
    {
     "data": {
      "image/png": "[encoded data removed]",
      "text/plain": [
       "<Figure size 1200x700 with 1 Axes>"
      ]
     },
     "metadata": {},
     "output_type": "display_data"
    }
   ],
   "source": [
    "\n",
    "best_train_time = results[results['Training Time'] == results['Training Time'].min()]\n",
    "worst_train_time = results[results['Training Time'] == results['Training Time'].max()]\n",
    "best_prediction_time = results[results['Prediction Time'] == results['Prediction Time'].min()]\n",
    "worst_prediction_time = results[results['Prediction Time'] == results['Prediction Time'].max()]\n",
    "\n",
    "plt.figure(figsize = (12, 7))\n",
    "\n",
    "barWidth = 0.17\n",
    "\n",
    "# set height of bar\n",
    "bars1 = results['Training Time']\n",
    "bars2 = results['Prediction Time']\n",
    "\n",
    "# Set position of bar on X axis\n",
    "r1 = np.arange(len(bars1))\n",
    "r2 = [x + barWidth for x in r1]\n",
    "\n",
    "# Make the plot\n",
    "plt.bar(r1, bars1, color= pal[0], width=barWidth, edgecolor='white', label='Training Time')\n",
    "plt.bar(r2, bars2, color= pal[1], width=barWidth, edgecolor='white', label='Prediction Time')\n",
    "\n",
    "# Add xticks on the middle of the group bars\n",
    "plt.xlabel('Algorithm', fontweight='bold', fontsize = 13)\n",
    "plt.ylabel('Time (seconds)', fontweight = 'bold', fontsize = 13)\n",
    "plt.xticks([r + barWidth for r in range(len(bars1))], results['Algorithm'], rotation = 15, fontsize = 11)\n",
    "\n",
    "\n",
    "textstr = '\\n'.join(('Best Training Time: {:.3f} - {}'.format(best_train_time['Training Time'].values[0], best_train_time['Algorithm'].values[0]),\n",
    "                     'Worst Training Time: {:.3f} - {}'.format(worst_train_time['Training Time'].values[0], worst_train_time['Algorithm'].values[0]),\n",
    "                   'Best Prediction Time: {:.3f} - {}'.format(best_prediction_time['Training Time'].values[0], best_prediction_time['Algorithm'].values[0]),\n",
    "                    'Worst Prediction Time: {:.3f} - {}'.format(worst_prediction_time['Training Time'].values[0], worst_prediction_time['Algorithm'].values[0])))\n",
    "props = dict(boxstyle='round', facecolor='lightgrey', alpha=0.5)\n",
    "\n",
    "#place a text box\n",
    "plt.text(3.2, 12, textstr, fontsize=14,  bbox=props)\n",
    "\n",
    "# Create legend & Show graphic\n",
    "plt.legend(fontsize = 13)\n",
    "plt.title('Training and Prediction time of Algorithms', fontweight = 'bold', fontsize = 17)"
   ]
  },
  {
   "cell_type": "markdown",
   "id": "aXemAaedHWa0",
   "metadata": {
    "id": "aXemAaedHWa0"
   },
   "source": [
    "# NOW WE WILL CREATING AN PREDICTIVE SYSTEM SO IT CAN PREDICT"
   ]
  },
  {
   "cell_type": "code",
   "execution_count": null,
   "id": "10cf4366",
   "metadata": {
    "colab": {
     "base_uri": "https://localhost:8080/",
     "height": 206
    },
    "executionInfo": {
     "elapsed": 59,
     "status": "ok",
     "timestamp": 1745481017874,
     "user": {
      "displayName": "Dev Dagar",
      "userId": "11148502930427226651"
     },
     "user_tz": -330
    },
    "id": "10cf4366",
    "outputId": "494d1dab-0124-40ca-88c3-356e81ce186b"
   },
   "outputs": [
    {
     "data": {
      "application/vnd.google.colaboratory.intrinsic+json": {
       "summary": "{\n  \"name\": \"df\",\n  \"rows\": 18148,\n  \"fields\": [\n    {\n      \"column\": \"headline\",\n      \"properties\": {\n        \"dtype\": \"string\",\n        \"num_unique_values\": 17068,\n        \"samples\": [\n          \"oh sh t  i m shaking in my boots  big bad admin  get off my nuts bitch\",\n          \"i dont care what the fuck u do fuck you u racist ass pieces of  shit s  imma let everyone know what wikipedia really is fuck off rcaist fuck  ers bitch es\",\n          \"so  i m just kidding  i am a pilipino  and i want to join wikipedia since tropical storm podul  tropical depression zoraida  active  but i am the young forecaster that editing this fuck wikipedia  i am planned to not join wikipedia anymore  beginning this month  likely on  rd week  before it joined this  i am too planned to making a month deal to wikipedia  so my family continued to supporting me  while i am in school year  instalok february pst\"\n        ],\n        \"semantic_type\": \"\",\n        \"description\": \"\"\n      }\n    },\n    {\n      \"column\": \"label\",\n      \"properties\": {\n        \"dtype\": \"number\",\n        \"std\": 0,\n        \"min\": 0,\n        \"max\": 1,\n        \"num_unique_values\": 2,\n        \"samples\": [\n          0,\n          1\n        ],\n        \"semantic_type\": \"\",\n        \"description\": \"\"\n      }\n    },\n    {\n      \"column\": \"length_headline\",\n      \"properties\": {\n        \"dtype\": \"number\",\n        \"std\": 560,\n        \"min\": 3,\n        \"max\": 6249,\n        \"num_unique_values\": 1615,\n        \"samples\": [\n          973,\n          948\n        ],\n        \"semantic_type\": \"\",\n        \"description\": \"\"\n      }\n    }\n  ]\n}",
       "type": "dataframe",
       "variable_name": "df"
      },
      "text/html": [
       "\n",
       "  <div id=\"df-69fd297f-2ec0-4ac1-8ddf-c38b92ede572\" class=\"colab-df-container\">\n",
       "    <div>\n",
       "<style scoped>\n",
       "    .dataframe tbody tr th:only-of-type {\n",
       "        vertical-align: middle;\n",
       "    }\n",
       "\n",
       "    .dataframe tbody tr th {\n",
       "        vertical-align: top;\n",
       "    }\n",
       "\n",
       "    .dataframe thead th {\n",
       "        text-align: right;\n",
       "    }\n",
       "</style>\n",
       "<table border=\"1\" class=\"dataframe\">\n",
       "  <thead>\n",
       "    <tr style=\"text-align: right;\">\n",
       "      <th></th>\n",
       "      <th>headline</th>\n",
       "      <th>label</th>\n",
       "      <th>length_headline</th>\n",
       "    </tr>\n",
       "  </thead>\n",
       "  <tbody>\n",
       "    <tr>\n",
       "      <th>0</th>\n",
       "      <td>cock  suck before you piss around on my work</td>\n",
       "      <td>1</td>\n",
       "      <td>44</td>\n",
       "    </tr>\n",
       "    <tr>\n",
       "      <th>1</th>\n",
       "      <td>you are  gay or antisemmitian archangel white ...</td>\n",
       "      <td>1</td>\n",
       "      <td>624</td>\n",
       "    </tr>\n",
       "    <tr>\n",
       "      <th>2</th>\n",
       "      <td>fuck your filthy mother in the ass  dry</td>\n",
       "      <td>1</td>\n",
       "      <td>39</td>\n",
       "    </tr>\n",
       "    <tr>\n",
       "      <th>3</th>\n",
       "      <td>get fuck  ed up  get fuck  ed up got a drink t...</td>\n",
       "      <td>1</td>\n",
       "      <td>121</td>\n",
       "    </tr>\n",
       "    <tr>\n",
       "      <th>4</th>\n",
       "      <td>stupid peace of  shit  stop deleting my stuff ...</td>\n",
       "      <td>1</td>\n",
       "      <td>93</td>\n",
       "    </tr>\n",
       "  </tbody>\n",
       "</table>\n",
       "</div>\n",
       "    <div class=\"colab-df-buttons\">\n",
       "\n",
       "  <div class=\"colab-df-container\">\n",
       "    <button class=\"colab-df-convert\" onclick=\"convertToInteractive('df-69fd297f-2ec0-4ac1-8ddf-c38b92ede572')\"\n",
       "            title=\"Convert this dataframe to an interactive table.\"\n",
       "            style=\"display:none;\">\n",
       "\n",
       "  <svg xmlns=\"http://www.w3.org/2000/svg\" height=\"24px\" viewBox=\"0 -960 960 960\">\n",
       "    <path d=\"M120-120v-720h720v720H120Zm60-500h600v-160H180v160Zm220 220h160v-160H400v160Zm0 220h160v-160H400v160ZM180-400h160v-160H180v160Zm440 0h160v-160H620v160ZM180-180h160v-160H180v160Zm440 0h160v-160H620v160Z\"/>\n",
       "  </svg>\n",
       "    </button>\n",
       "\n",
       "  <style>\n",
       "    .colab-df-container {\n",
       "      display:flex;\n",
       "      gap: 12px;\n",
       "    }\n",
       "\n",
       "    .colab-df-convert {\n",
       "      background-color: #E8F0FE;\n",
       "      border: none;\n",
       "      border-radius: 50%;\n",
       "      cursor: pointer;\n",
       "      display: none;\n",
       "      fill: #1967D2;\n",
       "      height: 32px;\n",
       "      padding: 0 0 0 0;\n",
       "      width: 32px;\n",
       "    }\n",
       "\n",
       "    .colab-df-convert:hover {\n",
       "      background-color: #E2EBFA;\n",
       "      box-shadow: 0px 1px 2px rgba(60, 64, 67, 0.3), 0px 1px 3px 1px rgba(60, 64, 67, 0.15);\n",
       "      fill: #174EA6;\n",
       "    }\n",
       "\n",
       "    .colab-df-buttons div {\n",
       "      margin-bottom: 4px;\n",
       "    }\n",
       "\n",
       "    [theme=dark] .colab-df-convert {\n",
       "      background-color: #3B4455;\n",
       "      fill: #D2E3FC;\n",
       "    }\n",
       "\n",
       "    [theme=dark] .colab-df-convert:hover {\n",
       "      background-color: #434B5C;\n",
       "      box-shadow: 0px 1px 3px 1px rgba(0, 0, 0, 0.15);\n",
       "      filter: drop-shadow(0px 1px 2px rgba(0, 0, 0, 0.3));\n",
       "      fill: #FFFFFF;\n",
       "    }\n",
       "  </style>\n",
       "\n",
       "    <script>\n",
       "      const buttonEl =\n",
       "        document.querySelector('#df-69fd297f-2ec0-4ac1-8ddf-c38b92ede572 button.colab-df-convert');\n",
       "      buttonEl.style.display =\n",
       "        google.colab.kernel.accessAllowed ? 'block' : 'none';\n",
       "\n",
       "      async function convertToInteractive(key) {\n",
       "        const element = document.querySelector('#df-69fd297f-2ec0-4ac1-8ddf-c38b92ede572');\n",
       "        const dataTable =\n",
       "          await google.colab.kernel.invokeFunction('convertToInteractive',\n",
       "                                                    [key], {});\n",
       "        if (!dataTable) return;\n",
       "\n",
       "        const docLinkHtml = 'Like what you see? Visit the ' +\n",
       "          '<a target=\"_blank\" href=https://colab.research.google.com/notebooks/data_table.ipynb>data table notebook</a>'\n",
       "          + ' to learn more about interactive tables.';\n",
       "        element.innerHTML = '';\n",
       "        dataTable['output_type'] = 'display_data';\n",
       "        await google.colab.output.renderOutput(dataTable, element);\n",
       "        const docLink = document.createElement('div');\n",
       "        docLink.innerHTML = docLinkHtml;\n",
       "        element.appendChild(docLink);\n",
       "      }\n",
       "    </script>\n",
       "  </div>\n",
       "\n",
       "\n",
       "<div id=\"df-6615e1e9-6dd3-4fa6-a6db-160b6532ac57\">\n",
       "  <button class=\"colab-df-quickchart\" onclick=\"quickchart('df-6615e1e9-6dd3-4fa6-a6db-160b6532ac57')\"\n",
       "            title=\"Suggest charts\"\n",
       "            style=\"display:none;\">\n",
       "\n",
       "<svg xmlns=\"http://www.w3.org/2000/svg\" height=\"24px\"viewBox=\"0 0 24 24\"\n",
       "     width=\"24px\">\n",
       "    <g>\n",
       "        <path d=\"M19 3H5c-1.1 0-2 .9-2 2v14c0 1.1.9 2 2 2h14c1.1 0 2-.9 2-2V5c0-1.1-.9-2-2-2zM9 17H7v-7h2v7zm4 0h-2V7h2v10zm4 0h-2v-4h2v4z\"/>\n",
       "    </g>\n",
       "</svg>\n",
       "  </button>\n",
       "\n",
       "<style>\n",
       "  .colab-df-quickchart {\n",
       "      --bg-color: #E8F0FE;\n",
       "      --fill-color: #1967D2;\n",
       "      --hover-bg-color: #E2EBFA;\n",
       "      --hover-fill-color: #174EA6;\n",
       "      --disabled-fill-color: #AAA;\n",
       "      --disabled-bg-color: #DDD;\n",
       "  }\n",
       "\n",
       "  [theme=dark] .colab-df-quickchart {\n",
       "      --bg-color: #3B4455;\n",
       "      --fill-color: #D2E3FC;\n",
       "      --hover-bg-color: #434B5C;\n",
       "      --hover-fill-color: #FFFFFF;\n",
       "      --disabled-bg-color: #3B4455;\n",
       "      --disabled-fill-color: #666;\n",
       "  }\n",
       "\n",
       "  .colab-df-quickchart {\n",
       "    background-color: var(--bg-color);\n",
       "    border: none;\n",
       "    border-radius: 50%;\n",
       "    cursor: pointer;\n",
       "    display: none;\n",
       "    fill: var(--fill-color);\n",
       "    height: 32px;\n",
       "    padding: 0;\n",
       "    width: 32px;\n",
       "  }\n",
       "\n",
       "  .colab-df-quickchart:hover {\n",
       "    background-color: var(--hover-bg-color);\n",
       "    box-shadow: 0 1px 2px rgba(60, 64, 67, 0.3), 0 1px 3px 1px rgba(60, 64, 67, 0.15);\n",
       "    fill: var(--button-hover-fill-color);\n",
       "  }\n",
       "\n",
       "  .colab-df-quickchart-complete:disabled,\n",
       "  .colab-df-quickchart-complete:disabled:hover {\n",
       "    background-color: var(--disabled-bg-color);\n",
       "    fill: var(--disabled-fill-color);\n",
       "    box-shadow: none;\n",
       "  }\n",
       "\n",
       "  .colab-df-spinner {\n",
       "    border: 2px solid var(--fill-color);\n",
       "    border-color: transparent;\n",
       "    border-bottom-color: var(--fill-color);\n",
       "    animation:\n",
       "      spin 1s steps(1) infinite;\n",
       "  }\n",
       "\n",
       "  @keyframes spin {\n",
       "    0% {\n",
       "      border-color: transparent;\n",
       "      border-bottom-color: var(--fill-color);\n",
       "      border-left-color: var(--fill-color);\n",
       "    }\n",
       "    20% {\n",
       "      border-color: transparent;\n",
       "      border-left-color: var(--fill-color);\n",
       "      border-top-color: var(--fill-color);\n",
       "    }\n",
       "    30% {\n",
       "      border-color: transparent;\n",
       "      border-left-color: var(--fill-color);\n",
       "      border-top-color: var(--fill-color);\n",
       "      border-right-color: var(--fill-color);\n",
       "    }\n",
       "    40% {\n",
       "      border-color: transparent;\n",
       "      border-right-color: var(--fill-color);\n",
       "      border-top-color: var(--fill-color);\n",
       "    }\n",
       "    60% {\n",
       "      border-color: transparent;\n",
       "      border-right-color: var(--fill-color);\n",
       "    }\n",
       "    80% {\n",
       "      border-color: transparent;\n",
       "      border-right-color: var(--fill-color);\n",
       "      border-bottom-color: var(--fill-color);\n",
       "    }\n",
       "    90% {\n",
       "      border-color: transparent;\n",
       "      border-bottom-color: var(--fill-color);\n",
       "    }\n",
       "  }\n",
       "</style>\n",
       "\n",
       "  <script>\n",
       "    async function quickchart(key) {\n",
       "      const quickchartButtonEl =\n",
       "        document.querySelector('#' + key + ' button');\n",
       "      quickchartButtonEl.disabled = true;  // To prevent multiple clicks.\n",
       "      quickchartButtonEl.classList.add('colab-df-spinner');\n",
       "      try {\n",
       "        const charts = await google.colab.kernel.invokeFunction(\n",
       "            'suggestCharts', [key], {});\n",
       "      } catch (error) {\n",
       "        console.error('Error during call to suggestCharts:', error);\n",
       "      }\n",
       "      quickchartButtonEl.classList.remove('colab-df-spinner');\n",
       "      quickchartButtonEl.classList.add('colab-df-quickchart-complete');\n",
       "    }\n",
       "    (() => {\n",
       "      let quickchartButtonEl =\n",
       "        document.querySelector('#df-6615e1e9-6dd3-4fa6-a6db-160b6532ac57 button');\n",
       "      quickchartButtonEl.style.display =\n",
       "        google.colab.kernel.accessAllowed ? 'block' : 'none';\n",
       "    })();\n",
       "  </script>\n",
       "</div>\n",
       "\n",
       "    </div>\n",
       "  </div>\n"
      ],
      "text/plain": [
       "                                            headline  label  length_headline\n",
       "0       cock  suck before you piss around on my work      1               44\n",
       "1  you are  gay or antisemmitian archangel white ...      1              624\n",
       "2            fuck your filthy mother in the ass  dry      1               39\n",
       "3  get fuck  ed up  get fuck  ed up got a drink t...      1              121\n",
       "4  stupid peace of  shit  stop deleting my stuff ...      1               93"
      ]
     },
     "execution_count": 28,
     "metadata": {},
     "output_type": "execute_result"
    }
   ],
   "source": [
    "df.head()"
   ]
  },
  {
   "cell_type": "code",
   "execution_count": null,
   "id": "B-AGI-pgUET4",
   "metadata": {
    "colab": {
     "base_uri": "https://localhost:8080/",
     "height": 206
    },
    "executionInfo": {
     "elapsed": 31,
     "status": "ok",
     "timestamp": 1745481017908,
     "user": {
      "displayName": "Dev Dagar",
      "userId": "11148502930427226651"
     },
     "user_tz": -330
    },
    "id": "B-AGI-pgUET4",
    "outputId": "c6ddf411-ac60-4db1-a064-acb6cd254463"
   },
   "outputs": [
    {
     "data": {
      "application/vnd.google.colaboratory.intrinsic+json": {
       "summary": "{\n  \"name\": \"df\",\n  \"rows\": 5,\n  \"fields\": [\n    {\n      \"column\": \"headline\",\n      \"properties\": {\n        \"dtype\": \"string\",\n        \"num_unique_values\": 5,\n        \"samples\": [\n          \"carry ki maa ki chut\",\n          \"akshay kumar ki film aise aa rahi hai jaise sunny leone ki chodne ke time aawaj aati hai\",\n          \"ram kapoor ko priya se pyaar hai kya ?\"\n        ],\n        \"semantic_type\": \"\",\n        \"description\": \"\"\n      }\n    },\n    {\n      \"column\": \"label\",\n      \"properties\": {\n        \"dtype\": \"number\",\n        \"std\": 0,\n        \"min\": 0,\n        \"max\": 1,\n        \"num_unique_values\": 2,\n        \"samples\": [\n          0,\n          1\n        ],\n        \"semantic_type\": \"\",\n        \"description\": \"\"\n      }\n    },\n    {\n      \"column\": \"length_headline\",\n      \"properties\": {\n        \"dtype\": \"number\",\n        \"std\": 26,\n        \"min\": 20,\n        \"max\": 88,\n        \"num_unique_values\": 5,\n        \"samples\": [\n          20,\n          88\n        ],\n        \"semantic_type\": \"\",\n        \"description\": \"\"\n      }\n    }\n  ]\n}",
       "type": "dataframe"
      },
      "text/html": [
       "\n",
       "  <div id=\"df-f16b7c6d-15cb-49d2-bcab-27594f598920\" class=\"colab-df-container\">\n",
       "    <div>\n",
       "<style scoped>\n",
       "    .dataframe tbody tr th:only-of-type {\n",
       "        vertical-align: middle;\n",
       "    }\n",
       "\n",
       "    .dataframe tbody tr th {\n",
       "        vertical-align: top;\n",
       "    }\n",
       "\n",
       "    .dataframe thead th {\n",
       "        text-align: right;\n",
       "    }\n",
       "</style>\n",
       "<table border=\"1\" class=\"dataframe\">\n",
       "  <thead>\n",
       "    <tr style=\"text-align: right;\">\n",
       "      <th></th>\n",
       "      <th>headline</th>\n",
       "      <th>label</th>\n",
       "      <th>length_headline</th>\n",
       "    </tr>\n",
       "  </thead>\n",
       "  <tbody>\n",
       "    <tr>\n",
       "      <th>18143</th>\n",
       "      <td>deepak chahal se baga chutiya maine nahi dekha...</td>\n",
       "      <td>1</td>\n",
       "      <td>68</td>\n",
       "    </tr>\n",
       "    <tr>\n",
       "      <th>18144</th>\n",
       "      <td>carry ki maa ki chut</td>\n",
       "      <td>1</td>\n",
       "      <td>20</td>\n",
       "    </tr>\n",
       "    <tr>\n",
       "      <th>18145</th>\n",
       "      <td>ram kapoor ko priya se pyaar hai kya ?</td>\n",
       "      <td>0</td>\n",
       "      <td>38</td>\n",
       "    </tr>\n",
       "    <tr>\n",
       "      <th>18146</th>\n",
       "      <td>kya ram kapoor ki behen ke chut mai mera lund ...</td>\n",
       "      <td>1</td>\n",
       "      <td>61</td>\n",
       "    </tr>\n",
       "    <tr>\n",
       "      <th>18147</th>\n",
       "      <td>akshay kumar ki film aise aa rahi hai jaise su...</td>\n",
       "      <td>1</td>\n",
       "      <td>88</td>\n",
       "    </tr>\n",
       "  </tbody>\n",
       "</table>\n",
       "</div>\n",
       "    <div class=\"colab-df-buttons\">\n",
       "\n",
       "  <div class=\"colab-df-container\">\n",
       "    <button class=\"colab-df-convert\" onclick=\"convertToInteractive('df-f16b7c6d-15cb-49d2-bcab-27594f598920')\"\n",
       "            title=\"Convert this dataframe to an interactive table.\"\n",
       "            style=\"display:none;\">\n",
       "\n",
       "  <svg xmlns=\"http://www.w3.org/2000/svg\" height=\"24px\" viewBox=\"0 -960 960 960\">\n",
       "    <path d=\"M120-120v-720h720v720H120Zm60-500h600v-160H180v160Zm220 220h160v-160H400v160Zm0 220h160v-160H400v160ZM180-400h160v-160H180v160Zm440 0h160v-160H620v160ZM180-180h160v-160H180v160Zm440 0h160v-160H620v160Z\"/>\n",
       "  </svg>\n",
       "    </button>\n",
       "\n",
       "  <style>\n",
       "    .colab-df-container {\n",
       "      display:flex;\n",
       "      gap: 12px;\n",
       "    }\n",
       "\n",
       "    .colab-df-convert {\n",
       "      background-color: #E8F0FE;\n",
       "      border: none;\n",
       "      border-radius: 50%;\n",
       "      cursor: pointer;\n",
       "      display: none;\n",
       "      fill: #1967D2;\n",
       "      height: 32px;\n",
       "      padding: 0 0 0 0;\n",
       "      width: 32px;\n",
       "    }\n",
       "\n",
       "    .colab-df-convert:hover {\n",
       "      background-color: #E2EBFA;\n",
       "      box-shadow: 0px 1px 2px rgba(60, 64, 67, 0.3), 0px 1px 3px 1px rgba(60, 64, 67, 0.15);\n",
       "      fill: #174EA6;\n",
       "    }\n",
       "\n",
       "    .colab-df-buttons div {\n",
       "      margin-bottom: 4px;\n",
       "    }\n",
       "\n",
       "    [theme=dark] .colab-df-convert {\n",
       "      background-color: #3B4455;\n",
       "      fill: #D2E3FC;\n",
       "    }\n",
       "\n",
       "    [theme=dark] .colab-df-convert:hover {\n",
       "      background-color: #434B5C;\n",
       "      box-shadow: 0px 1px 3px 1px rgba(0, 0, 0, 0.15);\n",
       "      filter: drop-shadow(0px 1px 2px rgba(0, 0, 0, 0.3));\n",
       "      fill: #FFFFFF;\n",
       "    }\n",
       "  </style>\n",
       "\n",
       "    <script>\n",
       "      const buttonEl =\n",
       "        document.querySelector('#df-f16b7c6d-15cb-49d2-bcab-27594f598920 button.colab-df-convert');\n",
       "      buttonEl.style.display =\n",
       "        google.colab.kernel.accessAllowed ? 'block' : 'none';\n",
       "\n",
       "      async function convertToInteractive(key) {\n",
       "        const element = document.querySelector('#df-f16b7c6d-15cb-49d2-bcab-27594f598920');\n",
       "        const dataTable =\n",
       "          await google.colab.kernel.invokeFunction('convertToInteractive',\n",
       "                                                    [key], {});\n",
       "        if (!dataTable) return;\n",
       "\n",
       "        const docLinkHtml = 'Like what you see? Visit the ' +\n",
       "          '<a target=\"_blank\" href=https://colab.research.google.com/notebooks/data_table.ipynb>data table notebook</a>'\n",
       "          + ' to learn more about interactive tables.';\n",
       "        element.innerHTML = '';\n",
       "        dataTable['output_type'] = 'display_data';\n",
       "        await google.colab.output.renderOutput(dataTable, element);\n",
       "        const docLink = document.createElement('div');\n",
       "        docLink.innerHTML = docLinkHtml;\n",
       "        element.appendChild(docLink);\n",
       "      }\n",
       "    </script>\n",
       "  </div>\n",
       "\n",
       "\n",
       "<div id=\"df-dc8e1cf0-05ca-4bee-a7f9-41efc18c1e8a\">\n",
       "  <button class=\"colab-df-quickchart\" onclick=\"quickchart('df-dc8e1cf0-05ca-4bee-a7f9-41efc18c1e8a')\"\n",
       "            title=\"Suggest charts\"\n",
       "            style=\"display:none;\">\n",
       "\n",
       "<svg xmlns=\"http://www.w3.org/2000/svg\" height=\"24px\"viewBox=\"0 0 24 24\"\n",
       "     width=\"24px\">\n",
       "    <g>\n",
       "        <path d=\"M19 3H5c-1.1 0-2 .9-2 2v14c0 1.1.9 2 2 2h14c1.1 0 2-.9 2-2V5c0-1.1-.9-2-2-2zM9 17H7v-7h2v7zm4 0h-2V7h2v10zm4 0h-2v-4h2v4z\"/>\n",
       "    </g>\n",
       "</svg>\n",
       "  </button>\n",
       "\n",
       "<style>\n",
       "  .colab-df-quickchart {\n",
       "      --bg-color: #E8F0FE;\n",
       "      --fill-color: #1967D2;\n",
       "      --hover-bg-color: #E2EBFA;\n",
       "      --hover-fill-color: #174EA6;\n",
       "      --disabled-fill-color: #AAA;\n",
       "      --disabled-bg-color: #DDD;\n",
       "  }\n",
       "\n",
       "  [theme=dark] .colab-df-quickchart {\n",
       "      --bg-color: #3B4455;\n",
       "      --fill-color: #D2E3FC;\n",
       "      --hover-bg-color: #434B5C;\n",
       "      --hover-fill-color: #FFFFFF;\n",
       "      --disabled-bg-color: #3B4455;\n",
       "      --disabled-fill-color: #666;\n",
       "  }\n",
       "\n",
       "  .colab-df-quickchart {\n",
       "    background-color: var(--bg-color);\n",
       "    border: none;\n",
       "    border-radius: 50%;\n",
       "    cursor: pointer;\n",
       "    display: none;\n",
       "    fill: var(--fill-color);\n",
       "    height: 32px;\n",
       "    padding: 0;\n",
       "    width: 32px;\n",
       "  }\n",
       "\n",
       "  .colab-df-quickchart:hover {\n",
       "    background-color: var(--hover-bg-color);\n",
       "    box-shadow: 0 1px 2px rgba(60, 64, 67, 0.3), 0 1px 3px 1px rgba(60, 64, 67, 0.15);\n",
       "    fill: var(--button-hover-fill-color);\n",
       "  }\n",
       "\n",
       "  .colab-df-quickchart-complete:disabled,\n",
       "  .colab-df-quickchart-complete:disabled:hover {\n",
       "    background-color: var(--disabled-bg-color);\n",
       "    fill: var(--disabled-fill-color);\n",
       "    box-shadow: none;\n",
       "  }\n",
       "\n",
       "  .colab-df-spinner {\n",
       "    border: 2px solid var(--fill-color);\n",
       "    border-color: transparent;\n",
       "    border-bottom-color: var(--fill-color);\n",
       "    animation:\n",
       "      spin 1s steps(1) infinite;\n",
       "  }\n",
       "\n",
       "  @keyframes spin {\n",
       "    0% {\n",
       "      border-color: transparent;\n",
       "      border-bottom-color: var(--fill-color);\n",
       "      border-left-color: var(--fill-color);\n",
       "    }\n",
       "    20% {\n",
       "      border-color: transparent;\n",
       "      border-left-color: var(--fill-color);\n",
       "      border-top-color: var(--fill-color);\n",
       "    }\n",
       "    30% {\n",
       "      border-color: transparent;\n",
       "      border-left-color: var(--fill-color);\n",
       "      border-top-color: var(--fill-color);\n",
       "      border-right-color: var(--fill-color);\n",
       "    }\n",
       "    40% {\n",
       "      border-color: transparent;\n",
       "      border-right-color: var(--fill-color);\n",
       "      border-top-color: var(--fill-color);\n",
       "    }\n",
       "    60% {\n",
       "      border-color: transparent;\n",
       "      border-right-color: var(--fill-color);\n",
       "    }\n",
       "    80% {\n",
       "      border-color: transparent;\n",
       "      border-right-color: var(--fill-color);\n",
       "      border-bottom-color: var(--fill-color);\n",
       "    }\n",
       "    90% {\n",
       "      border-color: transparent;\n",
       "      border-bottom-color: var(--fill-color);\n",
       "    }\n",
       "  }\n",
       "</style>\n",
       "\n",
       "  <script>\n",
       "    async function quickchart(key) {\n",
       "      const quickchartButtonEl =\n",
       "        document.querySelector('#' + key + ' button');\n",
       "      quickchartButtonEl.disabled = true;  // To prevent multiple clicks.\n",
       "      quickchartButtonEl.classList.add('colab-df-spinner');\n",
       "      try {\n",
       "        const charts = await google.colab.kernel.invokeFunction(\n",
       "            'suggestCharts', [key], {});\n",
       "      } catch (error) {\n",
       "        console.error('Error during call to suggestCharts:', error);\n",
       "      }\n",
       "      quickchartButtonEl.classList.remove('colab-df-spinner');\n",
       "      quickchartButtonEl.classList.add('colab-df-quickchart-complete');\n",
       "    }\n",
       "    (() => {\n",
       "      let quickchartButtonEl =\n",
       "        document.querySelector('#df-dc8e1cf0-05ca-4bee-a7f9-41efc18c1e8a button');\n",
       "      quickchartButtonEl.style.display =\n",
       "        google.colab.kernel.accessAllowed ? 'block' : 'none';\n",
       "    })();\n",
       "  </script>\n",
       "</div>\n",
       "\n",
       "    </div>\n",
       "  </div>\n"
      ],
      "text/plain": [
       "                                                headline  label  \\\n",
       "18143  deepak chahal se baga chutiya maine nahi dekha...      1   \n",
       "18144                               carry ki maa ki chut      1   \n",
       "18145             ram kapoor ko priya se pyaar hai kya ?      0   \n",
       "18146  kya ram kapoor ki behen ke chut mai mera lund ...      1   \n",
       "18147  akshay kumar ki film aise aa rahi hai jaise su...      1   \n",
       "\n",
       "       length_headline  \n",
       "18143               68  \n",
       "18144               20  \n",
       "18145               38  \n",
       "18146               61  \n",
       "18147               88  "
      ]
     },
     "execution_count": 29,
     "metadata": {},
     "output_type": "execute_result"
    }
   ],
   "source": [
    "df.tail()"
   ]
  },
  {
   "cell_type": "markdown",
   "id": "6DsNOzsYUAKa",
   "metadata": {
    "id": "6DsNOzsYUAKa"
   },
   "source": [
    "#Real Time Example"
   ]
  },
  {
   "cell_type": "code",
   "execution_count": null,
   "id": "81a7e415",
   "metadata": {
    "colab": {
     "base_uri": "https://localhost:8080/"
    },
    "executionInfo": {
     "elapsed": 35,
     "status": "ok",
     "timestamp": 1745481017946,
     "user": {
      "displayName": "Dev Dagar",
      "userId": "11148502930427226651"
     },
     "user_tz": -330
    },
    "id": "81a7e415",
    "outputId": "7ad2479f-3bbb-4284-ee61-1cf71eb2649b"
   },
   "outputs": [
    {
     "name": "stdout",
     "output_type": "stream",
     "text": [
      "[1]\n",
      "bulling\n"
     ]
    },
    {
     "name": "stderr",
     "output_type": "stream",
     "text": [
      "/usr/local/lib/python3.11/dist-packages/sklearn/feature_extraction/text.py:402: UserWarning: Your stop_words may be inconsistent with your preprocessing. Tokenizing the stop words generated tokens ['ninad'] not in stop_words.\n",
      "  warnings.warn(\n"
     ]
    }
   ],
   "source": [
    "data = [\"You are so Stupid.\"]\n",
    "\n",
    "tfidf_vector = TfidfVectorizer(stop_words=content_list, lowercase=True, vocabulary=pickle.load(open(\"tfidfvectoizer.pkl\", \"rb\")))\n",
    "preprocessed_data = tfidf_vector.fit_transform(data)\n",
    "\n",
    "trained_model = pickle.load(open('LinearSVC.pkl', 'rb'))\n",
    "print(trained_model.predict(preprocessed_data))\n",
    "\n",
    "if(trained_model.predict(preprocessed_data)==1):\n",
    "    print(\"bulling\")\n",
    "else:\n",
    "    print(\"non-bulling\")"
   ]
  },
  {
   "cell_type": "code",
   "execution_count": null,
   "id": "eHtT8duQyT81",
   "metadata": {
    "colab": {
     "base_uri": "https://localhost:8080/"
    },
    "executionInfo": {
     "elapsed": 94,
     "status": "ok",
     "timestamp": 1745481041751,
     "user": {
      "displayName": "Dev Dagar",
      "userId": "11148502930427226651"
     },
     "user_tz": -330
    },
    "id": "eHtT8duQyT81",
    "outputId": "93c3b9e1-c8bc-49e9-f805-e862e0c45a88"
   },
   "outputs": [
    {
     "name": "stdout",
     "output_type": "stream",
     "text": [
      "[1]\n",
      "bulling\n"
     ]
    },
    {
     "name": "stderr",
     "output_type": "stream",
     "text": [
      "/usr/local/lib/python3.11/dist-packages/sklearn/feature_extraction/text.py:402: UserWarning: Your stop_words may be inconsistent with your preprocessing. Tokenizing the stop words generated tokens ['ninad'] not in stop_words.\n",
      "  warnings.warn(\n"
     ]
    }
   ],
   "source": [
    "data = [\" \"]\n",
    "\n",
    "tfidf_vector = TfidfVectorizer(stop_words=content_list, lowercase=True, vocabulary=pickle.load(open(\"tfidfvectoizer.pkl\", \"rb\")))\n",
    "preprocessed_data = tfidf_vector.fit_transform(data)\n",
    "\n",
    "trained_model = pickle.load(open('LinearSVC.pkl', 'rb'))\n",
    "print(trained_model.predict(preprocessed_data))\n",
    "\n",
    "if(trained_model.predict(preprocessed_data)==1):\n",
    "    print(\"bulling\")\n",
    "else:\n",
    "    print(\"non-bulling\")"
   ]
  },
  {
   "cell_type": "markdown",
   "id": "ea76c12d",
   "metadata": {
    "id": "ea76c12d"
   },
   "source": [
    "Fine Tuining"
   ]
  },
  {
   "cell_type": "code",
   "execution_count": null,
   "id": "f329da99",
   "metadata": {
    "executionInfo": {
     "elapsed": 3,
     "status": "ok",
     "timestamp": 1745481017973,
     "user": {
      "displayName": "Dev Dagar",
      "userId": "11148502930427226651"
     },
     "user_tz": -330
    },
    "id": "f329da99"
   },
   "outputs": [],
   "source": [
    "from sklearn.model_selection import GridSearchCV\n",
    "\n",
    "def tuining(clf, param_dict, X_train, y_train, X_test, y_test):\n",
    "    scorer = make_scorer(f1_score)\n",
    "\n",
    "    grid_obj = GridSearchCV(estimator=clf, param_grid=param_dict, scoring=scorer, cv=5)\n",
    "\n",
    "    grid_fit = grid_obj.fit(X_train, y_train)\n",
    "\n",
    "    best_clf = grid_fit.best_estimator_\n",
    "\n",
    "    prediction = (clf.fit(X_train, y_train)).predict(X_test)\n",
    "\n",
    "    best_prediction = best_clf.predict(X_test)\n",
    "\n",
    "    print(clf.__class__.__name__)\n",
    "    print(f\"Best Parameter:  {grid_fit.best_params_}\")\n",
    "\n",
    "    print(f\"Accuracy:  {accuracy_score(y_test, best_prediction)}\")\n",
    "\n",
    "    print(f\"F1 Score :  {f1_score(y_test, best_prediction)}\")\n",
    "\n",
    "    print(f\"Precision :  {precision_score(y_test, best_prediction)}\")\n",
    "\n",
    "    print(f\"Recall:  {recall_score(y_test, best_prediction)}\")"
   ]
  },
  {
   "cell_type": "markdown",
   "id": "1jHrFNmcT6Y8",
   "metadata": {
    "id": "1jHrFNmcT6Y8"
   },
   "source": [
    "#Accuracy of our Model"
   ]
  },
  {
   "cell_type": "code",
   "execution_count": null,
   "id": "b1e840dd",
   "metadata": {
    "colab": {
     "base_uri": "https://localhost:8080/"
    },
    "executionInfo": {
     "elapsed": 1940,
     "status": "ok",
     "timestamp": 1745481019912,
     "user": {
      "displayName": "Dev Dagar",
      "userId": "11148502930427226651"
     },
     "user_tz": -330
    },
    "id": "b1e840dd",
    "outputId": "197f89ad-c0dc-4727-9da3-9125852f3d28"
   },
   "outputs": [
    {
     "name": "stdout",
     "output_type": "stream",
     "text": [
      "LinearSVC\n",
      "Best Parameter:  {'C': 1.2}\n",
      "Accuracy:  0.9644628099173553\n",
      "F1 Score :  0.9724888035828535\n",
      "Precision :  0.9733191035218783\n",
      "Recall:  0.97165991902834\n"
     ]
    }
   ],
   "source": [
    "param_grid = {\n",
    "    'C': [0.25, 0.5, 0.75, 1, 1.2]\n",
    "}\n",
    "\n",
    "clf_model = LinearSVC()\n",
    "\n",
    "tuining(clf_model, param_grid, training_data, y_train, testing_data, y_test)"
   ]
  },
  {
   "cell_type": "code",
   "execution_count": null,
   "id": "a3d26638",
   "metadata": {
    "executionInfo": {
     "elapsed": 30,
     "status": "ok",
     "timestamp": 1745481019944,
     "user": {
      "displayName": "Dev Dagar",
      "userId": "11148502930427226651"
     },
     "user_tz": -330
    },
    "id": "a3d26638"
   },
   "outputs": [],
   "source": [
    "pickle.dump(clf_model, open(\"LinearSVCTuned.pkl\", \"wb\"))"
   ]
  },
  {
   "cell_type": "code",
   "execution_count": null,
   "id": "NiGSSa4SA-Bt",
   "metadata": {
    "executionInfo": {
     "elapsed": 2,
     "status": "ok",
     "timestamp": 1745481019949,
     "user": {
      "displayName": "Dev Dagar",
      "userId": "11148502930427226651"
     },
     "user_tz": -330
    },
    "id": "NiGSSa4SA-Bt"
   },
   "outputs": [],
   "source": []
  },
  {
   "cell_type": "code",
   "execution_count": null,
   "id": "hackTZJtBX2m",
   "metadata": {
    "executionInfo": {
     "elapsed": 5,
     "status": "ok",
     "timestamp": 1745481019982,
     "user": {
      "displayName": "Dev Dagar",
      "userId": "11148502930427226651"
     },
     "user_tz": -330
    },
    "id": "hackTZJtBX2m"
   },
   "outputs": [],
   "source": []
  },
  {
   "cell_type": "code",
   "execution_count": null,
   "id": "lfP-citEDKzU",
   "metadata": {
    "executionInfo": {
     "elapsed": 22,
     "status": "ok",
     "timestamp": 1745481020003,
     "user": {
      "displayName": "Dev Dagar",
      "userId": "11148502930427226651"
     },
     "user_tz": -330
    },
    "id": "lfP-citEDKzU"
   },
   "outputs": [],
   "source": []
  },
  {
   "cell_type": "code",
   "execution_count": null,
   "id": "3pIfGn16DKxE",
   "metadata": {
    "executionInfo": {
     "elapsed": 2,
     "status": "ok",
     "timestamp": 1745481020009,
     "user": {
      "displayName": "Dev Dagar",
      "userId": "11148502930427226651"
     },
     "user_tz": -330
    },
    "id": "3pIfGn16DKxE"
   },
   "outputs": [],
   "source": []
  },
  {
   "cell_type": "code",
   "execution_count": null,
   "id": "KxMpvAlkDKkr",
   "metadata": {
    "executionInfo": {
     "elapsed": 2,
     "status": "ok",
     "timestamp": 1745481020013,
     "user": {
      "displayName": "Dev Dagar",
      "userId": "11148502930427226651"
     },
     "user_tz": -330
    },
    "id": "KxMpvAlkDKkr"
   },
   "outputs": [],
   "source": []
  }
 ],
 "metadata": {
  "colab": {
   "provenance": []
  },
  "kernelspec": {
   "display_name": "base",
   "language": "python",
   "name": "python3"
  },
  "language_info": {
   "codemirror_mode": {
    "name": "ipython",
    "version": 3
   },
   "file_extension": ".py",
   "mimetype": "text/x-python",
   "name": "python",
   "nbconvert_exporter": "python",
   "pygments_lexer": "ipython3",
   "version": "3.12.4"
  }
 },
 "nbformat": 4,
 "nbformat_minor": 5
}
